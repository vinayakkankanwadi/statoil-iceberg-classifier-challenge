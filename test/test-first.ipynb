{
 "cells": [
  {
   "cell_type": "markdown",
   "metadata": {},
   "source": [
    "# Statoil/C-CORE Iceberg Classifier Challenge\n",
    "\n",
    "Identifies if a remotely sensed target is a ship or iceberg.\n",
    "\n",
    "## Project: Build a Iceberg Classifier using Deep Learning\n",
    "\n",
    "[Kaggle Statoil Iceberg Classifier Challenge](https://www.kaggle.com/c/statoil-iceberg-classifier-challenge)\n"
   ]
  },
  {
   "cell_type": "code",
   "execution_count": 1,
   "metadata": {},
   "outputs": [
    {
     "name": "stderr",
     "output_type": "stream",
     "text": [
      "Using TensorFlow backend.\n"
     ]
    }
   ],
   "source": [
    "import pandas as pd \n",
    "import numpy as np \n",
    "import cv2 # Used to manipulated the images \n",
    "np.random.seed(1337) # The seed I used - pick your own or comment out for a random seed. A constant seed allows for better comparisons though\n",
    "\n",
    "# Import Keras \n",
    "from keras.models import Sequential\n",
    "from keras.layers import Dense, Dropout, Flatten, Activation\n",
    "from keras.layers import Conv2D, MaxPooling2D\n",
    "from keras.callbacks import EarlyStopping, ModelCheckpoint, ReduceLROnPlateau\n",
    "from keras.layers.normalization import BatchNormalization\n",
    "from keras.optimizers import Adam"
   ]
  },
  {
   "cell_type": "code",
   "execution_count": 2,
   "metadata": {},
   "outputs": [],
   "source": [
    "df_test = pd.read_json('../data/test.json')\n",
    "df_test.inc_angle = df_test.inc_angle.replace('na',0)"
   ]
  },
  {
   "cell_type": "code",
   "execution_count": 3,
   "metadata": {},
   "outputs": [],
   "source": [
    "df_train = pd.read_json('../data/train.json') # this is a dataframe"
   ]
  },
  {
   "cell_type": "code",
   "execution_count": 4,
   "metadata": {},
   "outputs": [],
   "source": [
    "def get_scaled_imgs(df):\n",
    "    imgs = []\n",
    "    \n",
    "    for i, row in df.iterrows():\n",
    "        #make 75x75 image\n",
    "        band_1 = np.array(row['band_1']).reshape(75, 75)\n",
    "        band_2 = np.array(row['band_2']).reshape(75, 75)\n",
    "        band_3 = band_1 + band_2 # plus since log(x*y) = log(x) + log(y)\n",
    "        \n",
    "        # Rescale\n",
    "        a = (band_1 - band_1.mean()) / (band_1.max() - band_1.min())\n",
    "        b = (band_2 - band_2.mean()) / (band_2.max() - band_2.min())\n",
    "        c = (band_3 - band_3.mean()) / (band_3.max() - band_3.min())\n",
    "\n",
    "        imgs.append(np.dstack((a, b, c)))\n",
    "\n",
    "    return np.array(imgs)"
   ]
  },
  {
   "cell_type": "code",
   "execution_count": 5,
   "metadata": {},
   "outputs": [],
   "source": [
    "Xtrain = get_scaled_imgs(df_train)"
   ]
  },
  {
   "cell_type": "code",
   "execution_count": 6,
   "metadata": {},
   "outputs": [],
   "source": [
    "Ytrain = np.array(df_train['is_iceberg'])"
   ]
  },
  {
   "cell_type": "code",
   "execution_count": 7,
   "metadata": {},
   "outputs": [],
   "source": [
    "df_train.inc_angle = df_train.inc_angle.replace('na',0)\n",
    "idx_tr = np.where(df_train.inc_angle>0)"
   ]
  },
  {
   "cell_type": "code",
   "execution_count": 8,
   "metadata": {},
   "outputs": [],
   "source": [
    "Ytrain = Ytrain[idx_tr[0]]\n",
    "Xtrain = Xtrain[idx_tr[0],...]"
   ]
  },
  {
   "cell_type": "code",
   "execution_count": 9,
   "metadata": {},
   "outputs": [],
   "source": [
    "def get_more_images(images):\n",
    "    \n",
    "    image_rot90 = []\n",
    "    image_rot180 = []\n",
    "    image_rot270 = []\n",
    "    image_mirror_lr = []\n",
    "    image_mirror_ud = []\n",
    "    for i in range(0,images.shape[0]):\n",
    "        band_1 = images[i,:,:,0]\n",
    "        band_2 = images[i,:,:,1]\n",
    "        band_3 = images[i,:,:,2]\n",
    "        \n",
    "        # rotate 90\n",
    "        band_1_rot90 = np.rot90(band_1)\n",
    "        band_2_rot90 = np.rot90(band_2)\n",
    "        band_3_rot90 = np.rot90(band_3)\n",
    "        image_rot90.append(np.dstack((band_1_rot90, band_2_rot90, band_3_rot90)))\n",
    "        \n",
    "        # rotate 180\n",
    "        band_1_rot180 = np.rot90(band_1_rot90)\n",
    "        band_2_rot180 = np.rot90(band_2_rot90)\n",
    "        band_3_rot180 = np.rot90(band_3_rot90)\n",
    "        image_rot180.append(np.dstack((band_1_rot180, band_2_rot180, band_3_rot180)))\n",
    "        \n",
    "        # rotate 270\n",
    "        band_1_rot270 = np.rot90(band_1_rot180)\n",
    "        band_2_rot270 = np.rot90(band_2_rot180)\n",
    "        band_3_rot270 = np.rot90(band_3_rot180)\n",
    "        image_rot270.append(np.dstack((band_1_rot270, band_2_rot270, band_3_rot270)))\n",
    "        \n",
    "        # mirror left-right\n",
    "        band_1_mirror_lr = np.flip(band_1, 0)\n",
    "        band_2_mirror_lr = np.flip(band_2, 0)\n",
    "        band_3_mirror_lr = np.flip(band_3, 0)\n",
    "        image_mirror_lr.append(np.dstack((band_1_mirror_lr, band_2_mirror_lr, band_3_mirror_lr)))\n",
    "        \n",
    "        # mirror up-down\n",
    "        band_1_mirror_ud = np.flip(band_1, 1)\n",
    "        band_2_mirror_ud = np.flip(band_2, 1)\n",
    "        band_3_mirror_ud = np.flip(band_3, 1)\n",
    "        image_mirror_ud.append(np.dstack((band_1_mirror_ud, band_2_mirror_ud, band_3_mirror_ud)))\n",
    "        \n",
    "    rot90 = np.array(image_rot90)\n",
    "    rot180 = np.array(image_rot180)\n",
    "    rot270 = np.array(image_rot270)\n",
    "    mirrorlr = np.array(image_mirror_lr)\n",
    "    mirrorud = np.array(image_mirror_ud)\n",
    "    images = np.concatenate((images, rot90, rot180, rot270, mirrorlr, mirrorud))\n",
    "    \n",
    "    return images"
   ]
  },
  {
   "cell_type": "code",
   "execution_count": 10,
   "metadata": {},
   "outputs": [],
   "source": [
    "Xtr_more = get_more_images(Xtrain) "
   ]
  },
  {
   "cell_type": "code",
   "execution_count": 11,
   "metadata": {},
   "outputs": [],
   "source": [
    "Ytr_more = np.concatenate((Ytrain,Ytrain,Ytrain,Ytrain,Ytrain,Ytrain))"
   ]
  },
  {
   "cell_type": "code",
   "execution_count": 12,
   "metadata": {},
   "outputs": [],
   "source": [
    "def getModel():\n",
    "    #Build keras model\n",
    "    \n",
    "    model=Sequential()\n",
    "    \n",
    "    # CNN 1\n",
    "    model.add(Conv2D(64, kernel_size=(3, 3),activation='relu', input_shape=(75, 75, 3)))\n",
    "    model.add(MaxPooling2D(pool_size=(3, 3), strides=(2, 2)))\n",
    "    model.add(Dropout(0.2))\n",
    "\n",
    "    # CNN 2\n",
    "    model.add(Conv2D(128, kernel_size=(3, 3), activation='relu' ))\n",
    "    model.add(MaxPooling2D(pool_size=(2, 2), strides=(2, 2)))\n",
    "    model.add(Dropout(0.2))\n",
    "\n",
    "    # CNN 3\n",
    "    model.add(Conv2D(128, kernel_size=(3, 3), activation='relu'))\n",
    "    model.add(MaxPooling2D(pool_size=(2, 2), strides=(2, 2)))\n",
    "    model.add(Dropout(0.2))\n",
    "\n",
    "    #CNN 4\n",
    "    model.add(Conv2D(64, kernel_size=(3, 3), activation='relu'))\n",
    "    model.add(MaxPooling2D(pool_size=(2, 2), strides=(2, 2)))\n",
    "    model.add(Dropout(0.2))\n",
    "\n",
    "    # You must flatten the data for the dense layers\n",
    "    model.add(Flatten())\n",
    "\n",
    "    #Dense 1\n",
    "    model.add(Dense(512, activation='relu'))\n",
    "    model.add(Dropout(0.2))\n",
    "\n",
    "    #Dense 2\n",
    "    model.add(Dense(256, activation='relu'))\n",
    "    model.add(Dropout(0.2))\n",
    "\n",
    "    # Output \n",
    "    model.add(Dense(1, activation=\"sigmoid\"))\n",
    "\n",
    "    optimizer = Adam(lr=0.001, decay=0.0)\n",
    "    model.compile(loss='binary_crossentropy', optimizer=optimizer, metrics=['accuracy'])\n",
    "    \n",
    "    return model"
   ]
  },
  {
   "cell_type": "code",
   "execution_count": 13,
   "metadata": {},
   "outputs": [
    {
     "name": "stdout",
     "output_type": "stream",
     "text": [
      "_________________________________________________________________\n",
      "Layer (type)                 Output Shape              Param #   \n",
      "=================================================================\n",
      "conv2d_1 (Conv2D)            (None, 73, 73, 64)        1792      \n",
      "_________________________________________________________________\n",
      "max_pooling2d_1 (MaxPooling2 (None, 36, 36, 64)        0         \n",
      "_________________________________________________________________\n",
      "dropout_1 (Dropout)          (None, 36, 36, 64)        0         \n",
      "_________________________________________________________________\n",
      "conv2d_2 (Conv2D)            (None, 34, 34, 128)       73856     \n",
      "_________________________________________________________________\n",
      "max_pooling2d_2 (MaxPooling2 (None, 17, 17, 128)       0         \n",
      "_________________________________________________________________\n",
      "dropout_2 (Dropout)          (None, 17, 17, 128)       0         \n",
      "_________________________________________________________________\n",
      "conv2d_3 (Conv2D)            (None, 15, 15, 128)       147584    \n",
      "_________________________________________________________________\n",
      "max_pooling2d_3 (MaxPooling2 (None, 7, 7, 128)         0         \n",
      "_________________________________________________________________\n",
      "dropout_3 (Dropout)          (None, 7, 7, 128)         0         \n",
      "_________________________________________________________________\n",
      "conv2d_4 (Conv2D)            (None, 5, 5, 64)          73792     \n",
      "_________________________________________________________________\n",
      "max_pooling2d_4 (MaxPooling2 (None, 2, 2, 64)          0         \n",
      "_________________________________________________________________\n",
      "dropout_4 (Dropout)          (None, 2, 2, 64)          0         \n",
      "_________________________________________________________________\n",
      "flatten_1 (Flatten)          (None, 256)               0         \n",
      "_________________________________________________________________\n",
      "dense_1 (Dense)              (None, 512)               131584    \n",
      "_________________________________________________________________\n",
      "dropout_5 (Dropout)          (None, 512)               0         \n",
      "_________________________________________________________________\n",
      "dense_2 (Dense)              (None, 256)               131328    \n",
      "_________________________________________________________________\n",
      "dropout_6 (Dropout)          (None, 256)               0         \n",
      "_________________________________________________________________\n",
      "dense_3 (Dense)              (None, 1)                 257       \n",
      "=================================================================\n",
      "Total params: 560,193\n",
      "Trainable params: 560,193\n",
      "Non-trainable params: 0\n",
      "_________________________________________________________________\n"
     ]
    }
   ],
   "source": [
    "model = getModel()\n",
    "model.summary()\n",
    "\n",
    "batch_size = 32\n",
    "earlyStopping = EarlyStopping(monitor='val_loss', patience=10, verbose=0, mode='min')\n",
    "mcp_save = ModelCheckpoint('../models/model.hdf5', save_best_only=True, monitor='val_loss', mode='min')\n",
    "reduce_lr_loss = ReduceLROnPlateau(monitor='val_loss', factor=0.1, patience=7, verbose=1, epsilon=1e-4, mode='min')"
   ]
  },
  {
   "cell_type": "code",
   "execution_count": null,
   "metadata": {},
   "outputs": [
    {
     "name": "stdout",
     "output_type": "stream",
     "text": [
      "Train on 7943 samples, validate on 883 samples\n",
      "Epoch 1/500\n",
      " 928/7943 [==>...........................] - ETA: 4:32 - loss: 0.1380 - acc: 0.9494"
     ]
    }
   ],
   "source": [
    "timeline=model.fit(Xtr_more, Ytr_more, batch_size=batch_size, epochs=500, verbose=1, callbacks=[earlyStopping, mcp_save, reduce_lr_loss], validation_split=0.1)\n"
   ]
  },
  {
   "cell_type": "code",
   "execution_count": 15,
   "metadata": {},
   "outputs": [
    {
     "data": {
      "image/png": "[encoded data removed]",
      "text/plain": [
       "<matplotlib.figure.Figure at 0x51eeb10ba8>"
      ]
     },
     "metadata": {},
     "output_type": "display_data"
    }
   ],
   "source": [
    "from matplotlib import pyplot as plt\n",
    "%matplotlib inline\n",
    "fig, ax = plt.subplots(figsize=(12,4))\n",
    "\n",
    "plt.plot(timeline.history['loss'], color='red', label='LOSS')\n",
    "plt.plot(timeline.history['val_loss'], color='blue', label='VAL_LOSS')\n",
    "legend = ax.legend(loc='upper center', shadow=True)\n",
    "frame = legend.get_frame()\n",
    "frame.set_facecolor('0.90')"
   ]
  },
  {
   "cell_type": "code",
   "execution_count": 16,
   "metadata": {},
   "outputs": [
    {
     "name": "stdout",
     "output_type": "stream",
     "text": [
      "1471/1471 [==============================] - 16s 11ms/step\n",
      "Train score: 0.0922721945342\n",
      "Train accuracy: 0.970088374647\n"
     ]
    }
   ],
   "source": [
    "model.load_weights(filepath = '../models/model.hdf5')\n",
    "\n",
    "score = model.evaluate(Xtrain, Ytrain, verbose=1)\n",
    "print('Train score:', score[0])\n",
    "print('Train accuracy:', score[1])"
   ]
  },
  {
   "cell_type": "code",
   "execution_count": 17,
   "metadata": {},
   "outputs": [
    {
     "name": "stdout",
     "output_type": "stream",
     "text": [
      "            id    is_iceberg\n",
      "0     5941774d  4.945528e-03\n",
      "1     4023181e  9.999752e-01\n",
      "2     b20200e4  8.458320e-01\n",
      "3     e7f018bb  9.999759e-01\n",
      "4     4371c8c3  1.000000e+00\n",
      "5     a8d9b1fd  2.528828e-01\n",
      "6     29e7727e  1.379810e-02\n",
      "7     92a51ffb  9.999992e-01\n",
      "8     c769ac97  5.243951e-05\n",
      "9     aee0547d  6.319467e-06\n",
      "10    565b28ac  9.354751e-10\n",
      "11    e04e9775  9.999983e-01\n",
      "12    8e8161d1  3.386558e-05\n",
      "13    4cf4d256  9.999999e-01\n",
      "14    139e5324  9.997975e-01\n",
      "15    f156976f  6.890502e-03\n",
      "16    68a117cc  9.829464e-01\n",
      "17    d9aa7a56  7.359630e-04\n",
      "18    9005b143  9.797641e-01\n",
      "19    5f6d3988  9.999942e-01\n",
      "20    9ad70954  1.000000e+00\n",
      "21    b9087b9e  9.996425e-02\n",
      "22    a39a1427  1.232398e-01\n",
      "23    82fbe8ed  2.333231e-02\n",
      "24    1fae4879  6.476850e-08\n",
      "25    6dd8f13d  5.348264e-04\n",
      "26    bbad5958  1.557390e-01\n",
      "27    54527583  9.998732e-01\n",
      "28    be8fa29c  9.984756e-01\n",
      "29    81a3328f  9.999430e-01\n",
      "...        ...           ...\n",
      "8394  8ae30ce6  4.483581e-04\n",
      "8395  de27ed88  1.840067e-04\n",
      "8396  66d5196f  9.996296e-01\n",
      "8397  d85f1858  7.524082e-01\n",
      "8398  16dcb33a  9.999998e-01\n",
      "8399  eca3158e  9.999630e-01\n",
      "8400  08daeee6  1.454196e-04\n",
      "8401  e9c513ee  2.041714e-02\n",
      "8402  b1519fa6  9.999999e-01\n",
      "8403  dfc89540  9.999923e-01\n",
      "8404  8fd8c0e9  9.498219e-01\n",
      "8405  45df6347  7.615881e-02\n",
      "8406  bf7928d7  6.344489e-01\n",
      "8407  7b587c05  2.034666e-02\n",
      "8408  c2834388  9.776477e-01\n",
      "8409  146143c3  9.880815e-01\n",
      "8410  d59aee00  1.334292e-06\n",
      "8411  cbc0b93b  9.999796e-01\n",
      "8412  088e2ff7  3.153422e-01\n",
      "8413  673d33cd  9.998131e-01\n",
      "8414  674b031e  2.755001e-02\n",
      "8415  43db4207  6.893944e-01\n",
      "8416  156855e1  8.646646e-04\n",
      "8417  ac96cfb0  9.984148e-01\n",
      "8418  fe45aef5  9.614427e-01\n",
      "8419  16ee9b50  8.194482e-10\n",
      "8420  5a599eb7  9.995377e-01\n",
      "8421  df30d6dd  2.208073e-02\n",
      "8422  18af95b1  9.999675e-01\n",
      "8423  27d788c8  9.996947e-01\n",
      "\n",
      "[8424 rows x 2 columns]\n"
     ]
    }
   ],
   "source": [
    "Xtest = (get_scaled_imgs(df_test))\n",
    "pred_test = model.predict(Xtest)\n",
    "\n",
    "submission = pd.DataFrame({'id': df_test[\"id\"], 'is_iceberg': pred_test.reshape((pred_test.shape[0]))})\n",
    "print(submission)\n"
   ]
  },
  {
   "cell_type": "code",
   "execution_count": 18,
   "metadata": {},
   "outputs": [],
   "source": [
    "submission.to_csv('../submission/submission10.csv', index=False)"
   ]
  }
 ],
 "metadata": {
  "anaconda-cloud": {},
  "kernelspec": {
   "display_name": "Python 3",
   "language": "python",
   "name": "python3"
  },
  "language_info": {
   "codemirror_mode": {
    "name": "ipython",
    "version": 3
   },
   "file_extension": ".py",
   "mimetype": "text/x-python",
   "name": "python",
   "nbconvert_exporter": "python",
   "pygments_lexer": "ipython3",
   "version": "3.5.4"
  }
 },
 "nbformat": 4,
 "nbformat_minor": 1
}
