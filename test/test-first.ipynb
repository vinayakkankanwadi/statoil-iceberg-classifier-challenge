{
 "cells": [
  {
   "cell_type": "markdown",
   "metadata": {},
   "source": [
    "# Statoil/C-CORE Iceberg Classifier Challenge\n",
    "\n",
    "Identifies if a remotely sensed target is a ship or iceberg.\n",
    "\n",
    "## Project: Build a Iceberg Classifier using Deep Learning\n",
    "\n",
    "[Kaggle Statoil Iceberg Classifier Challenge](https://www.kaggle.com/c/statoil-iceberg-classifier-challenge)\n"
   ]
  },
  {
   "cell_type": "code",
   "execution_count": 1,
   "metadata": {},
   "outputs": [
    {
     "name": "stderr",
     "output_type": "stream",
     "text": [
      "Using TensorFlow backend.\n"
     ]
    }
   ],
   "source": [
    "import pandas as pd \n",
    "import numpy as np \n",
    "import cv2 # Used to manipulated the images \n",
    "np.random.seed(1337) # The seed I used - pick your own or comment out for a random seed. A constant seed allows for better comparisons though\n",
    "\n",
    "# Import Keras \n",
    "from keras.models import Sequential\n",
    "from keras.layers import Dense, Dropout, Flatten, Activation\n",
    "from keras.layers import Conv2D, MaxPooling2D\n",
    "from keras.callbacks import EarlyStopping, ModelCheckpoint, ReduceLROnPlateau\n",
    "from keras.layers.normalization import BatchNormalization\n",
    "from keras.optimizers import Adam"
   ]
  },
  {
   "cell_type": "code",
   "execution_count": 2,
   "metadata": {},
   "outputs": [],
   "source": [
    "df_test = pd.read_json('../data/test.json')\n",
    "df_test.inc_angle = df_test.inc_angle.replace('na',0)"
   ]
  },
  {
   "cell_type": "code",
   "execution_count": 3,
   "metadata": {},
   "outputs": [],
   "source": [
    "df_train = pd.read_json('../data/train.json') # this is a dataframe"
   ]
  },
  {
   "cell_type": "code",
   "execution_count": 4,
   "metadata": {},
   "outputs": [],
   "source": [
    "def get_scaled_imgs(df):\n",
    "    imgs = []\n",
    "    \n",
    "    for i, row in df.iterrows():\n",
    "        #make 75x75 image\n",
    "        band_1 = np.array(row['band_1']).reshape(75, 75)\n",
    "        band_2 = np.array(row['band_2']).reshape(75, 75)\n",
    "        band_3 = band_1 + band_2 # plus since log(x*y) = log(x) + log(y)\n",
    "        \n",
    "        # Rescale\n",
    "        a = (band_1 - band_1.mean()) / (band_1.max() - band_1.min())\n",
    "        b = (band_2 - band_2.mean()) / (band_2.max() - band_2.min())\n",
    "        c = (band_3 - band_3.mean()) / (band_3.max() - band_3.min())\n",
    "\n",
    "        imgs.append(np.dstack((a, b, c)))\n",
    "\n",
    "    return np.array(imgs)"
   ]
  },
  {
   "cell_type": "code",
   "execution_count": 5,
   "metadata": {},
   "outputs": [],
   "source": [
    "Xtrain = get_scaled_imgs(df_train)"
   ]
  },
  {
   "cell_type": "code",
   "execution_count": 6,
   "metadata": {},
   "outputs": [],
   "source": [
    "Ytrain = np.array(df_train['is_iceberg'])"
   ]
  },
  {
   "cell_type": "code",
   "execution_count": 7,
   "metadata": {},
   "outputs": [],
   "source": [
    "df_train.inc_angle = df_train.inc_angle.replace('na',0)\n",
    "idx_tr = np.where(df_train.inc_angle>0)"
   ]
  },
  {
   "cell_type": "code",
   "execution_count": 8,
   "metadata": {},
   "outputs": [],
   "source": [
    "Ytrain = Ytrain[idx_tr[0]]\n",
    "Xtrain = Xtrain[idx_tr[0],...]"
   ]
  },
  {
   "cell_type": "code",
   "execution_count": 9,
   "metadata": {},
   "outputs": [],
   "source": [
    "def get_more_images(imgs):\n",
    "    \n",
    "    more_images = []\n",
    "    vert_flip_imgs = []\n",
    "    hori_flip_imgs = []\n",
    "      \n",
    "    for i in range(0,imgs.shape[0]):\n",
    "        a=imgs[i,:,:,0]\n",
    "        b=imgs[i,:,:,1]\n",
    "        c=imgs[i,:,:,2]\n",
    "        \n",
    "        av=cv2.flip(a,1)\n",
    "        ah=cv2.flip(a,0)\n",
    "        bv=cv2.flip(b,1)\n",
    "        bh=cv2.flip(b,0)\n",
    "        cv=cv2.flip(c,1)\n",
    "        ch=cv2.flip(c,0)\n",
    "        \n",
    "        vert_flip_imgs.append(np.dstack((av, bv, cv)))\n",
    "        hori_flip_imgs.append(np.dstack((ah, bh, ch)))\n",
    "      \n",
    "    v = np.array(vert_flip_imgs)\n",
    "    h = np.array(hori_flip_imgs)\n",
    "       \n",
    "    more_images = np.concatenate((imgs,v,h))\n",
    "    \n",
    "    return more_images"
   ]
  },
  {
   "cell_type": "code",
   "execution_count": 10,
   "metadata": {},
   "outputs": [],
   "source": [
    "Xtr_more = get_more_images(Xtrain) "
   ]
  },
  {
   "cell_type": "code",
   "execution_count": 11,
   "metadata": {},
   "outputs": [],
   "source": [
    "Ytr_more = np.concatenate((Ytrain,Ytrain,Ytrain))"
   ]
  },
  {
   "cell_type": "code",
   "execution_count": 12,
   "metadata": {},
   "outputs": [],
   "source": [
    "def getModel():\n",
    "    #Build keras model\n",
    "    \n",
    "    model=Sequential()\n",
    "    \n",
    "    # CNN 1\n",
    "    model.add(Conv2D(64, kernel_size=(3, 3),activation='relu', input_shape=(75, 75, 3)))\n",
    "    model.add(MaxPooling2D(pool_size=(3, 3), strides=(2, 2)))\n",
    "    model.add(Dropout(0.2))\n",
    "\n",
    "    # CNN 2\n",
    "    model.add(Conv2D(128, kernel_size=(3, 3), activation='relu' ))\n",
    "    model.add(MaxPooling2D(pool_size=(2, 2), strides=(2, 2)))\n",
    "    model.add(Dropout(0.2))\n",
    "\n",
    "    # CNN 3\n",
    "    model.add(Conv2D(128, kernel_size=(3, 3), activation='relu'))\n",
    "    model.add(MaxPooling2D(pool_size=(2, 2), strides=(2, 2)))\n",
    "    model.add(Dropout(0.2))\n",
    "\n",
    "    #CNN 4\n",
    "    model.add(Conv2D(64, kernel_size=(3, 3), activation='relu'))\n",
    "    model.add(MaxPooling2D(pool_size=(2, 2), strides=(2, 2)))\n",
    "    model.add(Dropout(0.2))\n",
    "\n",
    "    # You must flatten the data for the dense layers\n",
    "    model.add(Flatten())\n",
    "\n",
    "    #Dense 1\n",
    "    model.add(Dense(512, activation='relu'))\n",
    "    model.add(Dropout(0.2))\n",
    "\n",
    "    #Dense 2\n",
    "    model.add(Dense(256, activation='relu'))\n",
    "    model.add(Dropout(0.2))\n",
    "\n",
    "    # Output \n",
    "    model.add(Dense(1, activation=\"sigmoid\"))\n",
    "\n",
    "    optimizer = Adam(lr=0.001, decay=0.0)\n",
    "    model.compile(loss='binary_crossentropy', optimizer=optimizer, metrics=['accuracy'])\n",
    "    \n",
    "    return model"
   ]
  },
  {
   "cell_type": "code",
   "execution_count": 13,
   "metadata": {},
   "outputs": [
    {
     "name": "stdout",
     "output_type": "stream",
     "text": [
      "_________________________________________________________________\n",
      "Layer (type)                 Output Shape              Param #   \n",
      "=================================================================\n",
      "conv2d_1 (Conv2D)            (None, 73, 73, 64)        1792      \n",
      "_________________________________________________________________\n",
      "max_pooling2d_1 (MaxPooling2 (None, 36, 36, 64)        0         \n",
      "_________________________________________________________________\n",
      "dropout_1 (Dropout)          (None, 36, 36, 64)        0         \n",
      "_________________________________________________________________\n",
      "conv2d_2 (Conv2D)            (None, 34, 34, 128)       73856     \n",
      "_________________________________________________________________\n",
      "max_pooling2d_2 (MaxPooling2 (None, 17, 17, 128)       0         \n",
      "_________________________________________________________________\n",
      "dropout_2 (Dropout)          (None, 17, 17, 128)       0         \n",
      "_________________________________________________________________\n",
      "conv2d_3 (Conv2D)            (None, 15, 15, 128)       147584    \n",
      "_________________________________________________________________\n",
      "max_pooling2d_3 (MaxPooling2 (None, 7, 7, 128)         0         \n",
      "_________________________________________________________________\n",
      "dropout_3 (Dropout)          (None, 7, 7, 128)         0         \n",
      "_________________________________________________________________\n",
      "conv2d_4 (Conv2D)            (None, 5, 5, 64)          73792     \n",
      "_________________________________________________________________\n",
      "max_pooling2d_4 (MaxPooling2 (None, 2, 2, 64)          0         \n",
      "_________________________________________________________________\n",
      "dropout_4 (Dropout)          (None, 2, 2, 64)          0         \n",
      "_________________________________________________________________\n",
      "flatten_1 (Flatten)          (None, 256)               0         \n",
      "_________________________________________________________________\n",
      "dense_1 (Dense)              (None, 512)               131584    \n",
      "_________________________________________________________________\n",
      "dropout_5 (Dropout)          (None, 512)               0         \n",
      "_________________________________________________________________\n",
      "dense_2 (Dense)              (None, 256)               131328    \n",
      "_________________________________________________________________\n",
      "dropout_6 (Dropout)          (None, 256)               0         \n",
      "_________________________________________________________________\n",
      "dense_3 (Dense)              (None, 1)                 257       \n",
      "=================================================================\n",
      "Total params: 560,193\n",
      "Trainable params: 560,193\n",
      "Non-trainable params: 0\n",
      "_________________________________________________________________\n"
     ]
    }
   ],
   "source": [
    "model = getModel()\n",
    "model.summary()\n",
    "\n",
    "batch_size = 32\n",
    "earlyStopping = EarlyStopping(monitor='val_loss', patience=10, verbose=0, mode='min')\n",
    "mcp_save = ModelCheckpoint('../models/model.hdf5', save_best_only=True, monitor='val_loss', mode='min')\n",
    "reduce_lr_loss = ReduceLROnPlateau(monitor='val_loss', factor=0.1, patience=7, verbose=1, epsilon=1e-4, mode='min')"
   ]
  },
  {
   "cell_type": "code",
   "execution_count": 14,
   "metadata": {},
   "outputs": [
    {
     "name": "stdout",
     "output_type": "stream",
     "text": [
      "Train on 3309 samples, validate on 1104 samples\n",
      "Epoch 1/50\n",
      "3309/3309 [==============================] - 131s 40ms/step - loss: 0.5477 - acc: 0.7078 - val_loss: 0.3684 - val_acc: 0.8370\n",
      "Epoch 2/50\n",
      "3309/3309 [==============================] - 136s 41ms/step - loss: 0.3676 - acc: 0.8474 - val_loss: 0.3080 - val_acc: 0.8750\n",
      "Epoch 3/50\n",
      "3309/3309 [==============================] - 135s 41ms/step - loss: 0.3414 - acc: 0.8507 - val_loss: 0.3709 - val_acc: 0.8333\n",
      "Epoch 4/50\n",
      "3309/3309 [==============================] - 129s 39ms/step - loss: 0.2882 - acc: 0.8728 - val_loss: 0.2643 - val_acc: 0.8986\n",
      "Epoch 5/50\n",
      "3309/3309 [==============================] - 129s 39ms/step - loss: 0.2438 - acc: 0.8954 - val_loss: 0.2339 - val_acc: 0.9158\n",
      "Epoch 6/50\n",
      "3309/3309 [==============================] - 127s 39ms/step - loss: 0.2205 - acc: 0.9093 - val_loss: 0.2273 - val_acc: 0.9149\n",
      "Epoch 7/50\n",
      "3309/3309 [==============================] - 126s 38ms/step - loss: 0.2120 - acc: 0.9133 - val_loss: 0.2566 - val_acc: 0.9022\n",
      "Epoch 8/50\n",
      "3309/3309 [==============================] - 128s 39ms/step - loss: 0.1961 - acc: 0.9187 - val_loss: 0.2344 - val_acc: 0.9076\n",
      "Epoch 9/50\n",
      "3309/3309 [==============================] - 127s 38ms/step - loss: 0.1872 - acc: 0.9214 - val_loss: 0.2325 - val_acc: 0.9112\n",
      "Epoch 10/50\n",
      "3309/3309 [==============================] - 129s 39ms/step - loss: 0.1667 - acc: 0.9317 - val_loss: 0.2194 - val_acc: 0.9130\n",
      "Epoch 11/50\n",
      "3309/3309 [==============================] - 128s 39ms/step - loss: 0.1719 - acc: 0.9308 - val_loss: 0.2258 - val_acc: 0.9076\n",
      "Epoch 12/50\n",
      "3309/3309 [==============================] - 128s 39ms/step - loss: 0.1459 - acc: 0.9411 - val_loss: 0.2697 - val_acc: 0.8995\n",
      "Epoch 13/50\n",
      "3309/3309 [==============================] - 128s 39ms/step - loss: 0.1633 - acc: 0.9341 - val_loss: 0.2448 - val_acc: 0.9013\n",
      "Epoch 14/50\n",
      "3309/3309 [==============================] - 128s 39ms/step - loss: 0.1283 - acc: 0.9538 - val_loss: 0.2443 - val_acc: 0.9112\n",
      "Epoch 15/50\n",
      "3309/3309 [==============================] - 129s 39ms/step - loss: 0.1321 - acc: 0.9480 - val_loss: 0.2851 - val_acc: 0.9058\n",
      "Epoch 16/50\n",
      "3309/3309 [==============================] - 128s 39ms/step - loss: 0.1175 - acc: 0.9562 - val_loss: 0.2618 - val_acc: 0.9194\n",
      "Epoch 17/50\n",
      "3309/3309 [==============================] - 129s 39ms/step - loss: 0.1022 - acc: 0.9598 - val_loss: 0.2657 - val_acc: 0.9103\n",
      "Epoch 18/50\n",
      "3296/3309 [============================>.] - ETA: 0s - loss: 0.1032 - acc: 0.9639\n",
      "Epoch 00018: reducing learning rate to 0.00010000000474974513.\n",
      "3309/3309 [==============================] - 128s 39ms/step - loss: 0.1030 - acc: 0.9640 - val_loss: 0.2616 - val_acc: 0.9076\n",
      "Epoch 19/50\n",
      "3309/3309 [==============================] - 128s 39ms/step - loss: 0.0652 - acc: 0.9761 - val_loss: 0.2392 - val_acc: 0.9275\n",
      "Epoch 20/50\n",
      "3309/3309 [==============================] - 130s 39ms/step - loss: 0.0491 - acc: 0.9822 - val_loss: 0.2464 - val_acc: 0.9248\n"
     ]
    },
    {
     "data": {
      "text/plain": [
       "<keras.callbacks.History at 0x674dc1c860>"
      ]
     },
     "execution_count": 14,
     "metadata": {},
     "output_type": "execute_result"
    }
   ],
   "source": [
    "timeline=model.fit(Xtr_more, Ytr_more, batch_size=batch_size, epochs=50, verbose=1, callbacks=[earlyStopping, mcp_save, reduce_lr_loss], validation_split=0.25)\n"
   ]
  },
  {
   "cell_type": "code",
   "execution_count": null,
   "metadata": {},
   "outputs": [],
   "source": [
    "fig, ax = plt.subplots(figsize=(12,4))\n",
    "\n",
    "plt.plot(timeline.history['loss'], color='red', label='LOSS')\n",
    "plt.plot(timeline.history['val_loss'], color='blue', label='VAL_LOSS')\n",
    "legend = ax.legend(loc='upper center', shadow=True)\n",
    "frame = legend.get_frame()\n",
    "frame.set_facecolor('0.90')"
   ]
  },
  {
   "cell_type": "code",
   "execution_count": 15,
   "metadata": {},
   "outputs": [
    {
     "name": "stdout",
     "output_type": "stream",
     "text": [
      "1471/1471 [==============================] - 17s 12ms/step\n",
      "Train score: 0.127967223464\n",
      "Train accuracy: 0.955812371928\n"
     ]
    }
   ],
   "source": [
    "model.load_weights(filepath = '../models/model.hdf5')\n",
    "\n",
    "score = model.evaluate(Xtrain, Ytrain, verbose=1)\n",
    "print('Train score:', score[0])\n",
    "print('Train accuracy:', score[1])"
   ]
  },
  {
   "cell_type": "code",
   "execution_count": 16,
   "metadata": {},
   "outputs": [
    {
     "name": "stdout",
     "output_type": "stream",
     "text": [
      "            id    is_iceberg\n",
      "0     5941774d  1.143101e-01\n",
      "1     4023181e  9.744909e-01\n",
      "2     b20200e4  6.057059e-02\n",
      "3     e7f018bb  9.987123e-01\n",
      "4     4371c8c3  9.819810e-01\n",
      "5     a8d9b1fd  1.659407e-01\n",
      "6     29e7727e  1.869725e-01\n",
      "7     92a51ffb  9.983988e-01\n",
      "8     c769ac97  3.690912e-05\n",
      "9     aee0547d  2.276588e-05\n",
      "10    565b28ac  2.221289e-08\n",
      "11    e04e9775  9.606348e-01\n",
      "12    8e8161d1  1.627506e-03\n",
      "13    4cf4d256  8.778560e-01\n",
      "14    139e5324  4.091966e-01\n",
      "15    f156976f  5.301872e-02\n",
      "16    68a117cc  1.548032e-01\n",
      "17    d9aa7a56  4.815563e-01\n",
      "18    9005b143  2.191441e-01\n",
      "19    5f6d3988  9.645306e-01\n",
      "20    9ad70954  4.417958e-01\n",
      "21    b9087b9e  5.729984e-01\n",
      "22    a39a1427  7.617679e-02\n",
      "23    82fbe8ed  2.172954e-01\n",
      "24    1fae4879  2.451432e-07\n",
      "25    6dd8f13d  2.530451e-04\n",
      "26    bbad5958  2.925577e-01\n",
      "27    54527583  3.891438e-01\n",
      "28    be8fa29c  3.245075e-01\n",
      "29    81a3328f  9.989707e-01\n",
      "...        ...           ...\n",
      "8394  8ae30ce6  2.448248e-03\n",
      "8395  de27ed88  1.932846e-03\n",
      "8396  66d5196f  1.497308e-01\n",
      "8397  d85f1858  3.292602e-01\n",
      "8398  16dcb33a  8.867537e-01\n",
      "8399  eca3158e  2.217956e-01\n",
      "8400  08daeee6  5.707867e-04\n",
      "8401  e9c513ee  1.801874e-03\n",
      "8402  b1519fa6  9.418446e-01\n",
      "8403  dfc89540  6.976036e-01\n",
      "8404  8fd8c0e9  2.824503e-01\n",
      "8405  45df6347  1.213179e-02\n",
      "8406  bf7928d7  3.749323e-02\n",
      "8407  7b587c05  3.707633e-01\n",
      "8408  c2834388  4.209837e-01\n",
      "8409  146143c3  9.981064e-01\n",
      "8410  d59aee00  2.892914e-07\n",
      "8411  cbc0b93b  7.829925e-01\n",
      "8412  088e2ff7  7.329810e-01\n",
      "8413  673d33cd  7.764771e-01\n",
      "8414  674b031e  1.149026e-03\n",
      "8415  43db4207  3.264559e-01\n",
      "8416  156855e1  1.378289e-04\n",
      "8417  ac96cfb0  4.183633e-01\n",
      "8418  fe45aef5  9.314381e-01\n",
      "8419  16ee9b50  9.203237e-07\n",
      "8420  5a599eb7  8.254000e-01\n",
      "8421  df30d6dd  2.596087e-02\n",
      "8422  18af95b1  9.959728e-01\n",
      "8423  27d788c8  9.946105e-01\n",
      "\n",
      "[8424 rows x 2 columns]\n"
     ]
    }
   ],
   "source": [
    "Xtest = (get_scaled_imgs(df_test))\n",
    "pred_test = model.predict(Xtest)\n",
    "\n",
    "submission = pd.DataFrame({'id': df_test[\"id\"], 'is_iceberg': pred_test.reshape((pred_test.shape[0]))})\n",
    "print(submission)\n"
   ]
  },
  {
   "cell_type": "code",
   "execution_count": 17,
   "metadata": {},
   "outputs": [],
   "source": [
    "submission.to_csv('../submission/submission6.csv', index=False)"
   ]
  }
 ],
 "metadata": {
  "anaconda-cloud": {},
  "kernelspec": {
   "display_name": "Python 3",
   "language": "python",
   "name": "python3"
  },
  "language_info": {
   "codemirror_mode": {
    "name": "ipython",
    "version": 3
   },
   "file_extension": ".py",
   "mimetype": "text/x-python",
   "name": "python",
   "nbconvert_exporter": "python",
   "pygments_lexer": "ipython3",
   "version": "3.5.4"
  }
 },
 "nbformat": 4,
 "nbformat_minor": 1
}
