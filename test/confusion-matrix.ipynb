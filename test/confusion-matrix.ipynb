{
 "cells": [
  {
   "cell_type": "markdown",
   "metadata": {},
   "source": [
    "# Confusion Matrix\n",
    "\n",
    "A confusion matrix is a table that is often used to describe the performance of a classification model (or \"classifier\") on a set of train data for which the output labels are known.\n",
    "\n",
    "```\n",
    "|---------------------------------------------------|\n",
    "| n= 275       | Prediction (NO) | Predection (YES) |\n",
    "| --------------------------------------------------|-----\n",
    "| Actual (NO)  | (TN) 60         | (FP)   10        | 70\n",
    "| --------------------------------------------------|-----\n",
    "| Actual (YES) | (FN)  5         | (TP)  200        |\n",
    "| --------------------------------------------------|\n",
    "               |      65         |       210\n",
    "```            \n",
    "\n",
    "If we are predicting iceberg then \"YES\" would mean they are iceberg and \"NO\" would mean they are ships.\n",
    "\n",
    "```\n",
    "- Two possible predicted classes: \"YES\" and \"NO\". \n",
    "- Total images tested        : 275\n",
    "- Classifier predicted \"YES\" : 210\n",
    "- Classifier predicted \"NO\"  :  65\n",
    "- Actual Icebergs            : 205\n",
    "- Actual Ships               : 70\n",
    "```\n",
    "\n",
    "#### Terms\n",
    "- True positives  (TP): Predicted \"YES\" and Actual is also \"YES\".\n",
    "- True negatives  (TN): Predicted \"NO\" and Actual is also \"NO\".\n",
    "- False positives (FP): Predicted \"YES\" and Actual is \"NO\" (\"Type I error\").\n",
    "- False negatives (FN): Predicted \"NO\" and Actual is \"YES\"(\"Type II error\").\n",
    "\n",
    "\n",
    "\n",
    "- Accuracy: Overall, how often is the classifier correct?\n",
    "        (TP+TN)/total = (200+60)/275 = 0.91\n",
    "- Misclassification Rate: Overall, how often is it wrong?\n",
    "        (FP+FN)/total = (10+5)/165 = 0.09\n",
    "        equivalent to 1 minus Accuracy\n",
    "        also known as \"Error Rate\"\n",
    "- True Positive Rate: When it's actually yes, how often does it predict yes?\n",
    "        TP/actual yes = 200/105 = 0.95\n",
    "        also known as \"Sensitivity\" or \"Recall\"\n",
    "- False Positive Rate: When it's actually no, how often does it predict yes?\n",
    "        FP/actual no = 10/60 = 0.17\n",
    "    Specificity: When it's actually no, how often does it predict no?\n",
    "        TN/actual no = 50/60 = 0.83\n",
    "        equivalent to 1 minus False Positive Rate\n",
    "    Precision: When it predicts yes, how often is it correct?\n",
    "        TP/predicted yes = 100/110 = 0.91\n",
    "    Prevalence: How often does the yes condition actually occur in our sample?\n",
    "        actual yes/total = 105/165 = 0.64\n",
    "\n",
    "\n"
   ]
  },
  {
   "cell_type": "code",
   "execution_count": 1,
   "metadata": {
    "collapsed": true
   },
   "outputs": [],
   "source": [
    "import sys\n",
    "\n",
    "import matplotlib.pyplot as plt\n",
    "import copy\n",
    "import numpy as np\n",
    "import pylab as pl\n",
    "import pandas as pd \n",
    "from sklearn.svm import SVC\n",
    "from sklearn.metrics import accuracy_score\n",
    "from sklearn.model_selection import train_test_split"
   ]
  },
  {
   "cell_type": "code",
   "execution_count": null,
   "metadata": {
    "collapsed": true
   },
   "outputs": [],
   "source": [
    "test = pd.read_json('../data/test.json')\n",
    "#df_test.inc_angle = df_test.inc_angle.replace('na',0)"
   ]
  },
  {
   "cell_type": "code",
   "execution_count": 2,
   "metadata": {
    "collapsed": true
   },
   "outputs": [],
   "source": [
    "train = pd.read_json('../data/train.json') # this is a dataframe"
   ]
  },
  {
   "cell_type": "code",
   "execution_count": 4,
   "metadata": {},
   "outputs": [],
   "source": [
    "import numpy as np\n",
    "import matplotlib.pyplot as plt\n",
    "from sklearn import svm, datasets\n",
    "\n",
    "# import some data to play with\n",
    "iris = datasets.load_iris()\n",
    "X = iris.data[:, :2] # we only take the first two features. We could\n",
    " # avoid this ugly slicing by using a two-dim dataset\n",
    "y = iris.target\n",
    "#print(X)\n",
    "#print(y)\n"
   ]
  },
  {
   "cell_type": "code",
   "execution_count": 7,
   "metadata": {},
   "outputs": [
    {
     "name": "stdout",
     "output_type": "stream",
     "text": [
      "['setosa' 'versicolor' 'virginica']\n"
     ]
    }
   ],
   "source": [
    "\n",
    "class_names = iris.target_names\n",
    "print(class_names)"
   ]
  },
  {
   "cell_type": "code",
   "execution_count": 5,
   "metadata": {
    "collapsed": true
   },
   "outputs": [],
   "source": [
    "#X = train['band_1']\n",
    "#Y = train['is_iceberg']\n",
    "XX = np.array(train['band_1'])\n",
    "yy = np.array(train['is_iceberg'])"
   ]
  },
  {
   "cell_type": "code",
   "execution_count": 21,
   "metadata": {},
   "outputs": [
    {
     "name": "stdout",
     "output_type": "stream",
     "text": [
      "(1604,)\n",
      "(1604,)\n",
      "Dta\n",
      "(1604, 2)\n",
      "(1604,)\n"
     ]
    }
   ],
   "source": [
    "x_band1 = np.array([np.array(np.mean(band)).astype(np.float32) for band in train[\"band_1\"]])\n",
    "#print(x_band1)\n",
    "\n",
    "x_band2 = np.array([np.array(np.mean(band)).astype(np.float32) for band in train[\"band_2\"]])\n",
    "#print(x_band2)\n",
    "\n",
    "#data = np.column_stack((x_band1,x_band2,train['inc_angle'],train['is_iceberg']))\n",
    "#print(data)\n",
    "data = np.column_stack((x_band1,x_band2))\n",
    "#print(data)\n",
    "\n",
    "#X = XX\n",
    "#y = yy\n",
    "print(XX.shape)\n",
    "print(yy.shape)\n",
    "#print(X)\n",
    "#print(y)\n",
    "#print(yy)\n",
    "#print(XX)\n",
    "X = data # we only take the first two features. We could\n",
    "X = X[0:1700:]\n",
    " # avoid this ugly slicing by using a two-dim dataset\n",
    "y = np.array(train['is_iceberg'])\n",
    "y = y[0:1700:]\n",
    "print(\"Dta\")\n",
    "print(X.shape)\n",
    "print(y.shape)\n"
   ]
  },
  {
   "cell_type": "code",
   "execution_count": 22,
   "metadata": {},
   "outputs": [
    {
     "name": "stdout",
     "output_type": "stream",
     "text": [
      "['ship', 'iceberg']\n"
     ]
    }
   ],
   "source": [
    "class_names = ['ship' , 'iceberg']\n",
    "print(class_names)"
   ]
  },
  {
   "cell_type": "code",
   "execution_count": 25,
   "metadata": {},
   "outputs": [
    {
     "name": "stdout",
     "output_type": "stream",
     "text": [
      "(401, 2)\n",
      "(401,)\n",
      "Confusion matrix, without normalization\n",
      "[[105  95]\n",
      " [ 79 122]]\n",
      "Normalized confusion matrix\n",
      "[[ 0.53  0.47]\n",
      " [ 0.39  0.61]]\n"
     ]
    },
    {
     "data": {
      "image/png": "[encoded data removed]",
      "text/plain": [
       "<matplotlib.figure.Figure at 0x7f51f2083518>"
      ]
     },
     "metadata": {},
     "output_type": "display_data"
    },
    {
     "data": {
      "image/png": "[encoded data removed]",
      "text/plain": [
       "<matplotlib.figure.Figure at 0x7f51f209b978>"
      ]
     },
     "metadata": {},
     "output_type": "display_data"
    }
   ],
   "source": [
    "import itertools\n",
    "import numpy as np\n",
    "import matplotlib.pyplot as plt\n",
    "\n",
    "from sklearn import svm, datasets\n",
    "from sklearn.model_selection import train_test_split\n",
    "from sklearn.metrics import confusion_matrix\n",
    "\n",
    "# import some data to play with\n",
    "#iris = datasets.load_iris()\n",
    "#X = iris.data\n",
    "#y = iris.target\n",
    "#class_names = iris.target_names\n",
    "class_names = ['ship', 'iceberg']\n",
    "\n",
    "\n",
    "# Split the data into a training set and a test set\n",
    "X_train, X_test, y_train, y_test = train_test_split(X, y, random_state=0)\n",
    "print(X_test.shape)\n",
    "print(y_test.shape)\n",
    "\n",
    "# Run classifier, using a model that is too regularized (C too low) to see\n",
    "# the impact on the results\n",
    "classifier = svm.SVC(kernel='linear', C=0.01)\n",
    "y_pred = classifier.fit(X_train, y_train).predict(X_test)\n",
    "\n",
    "\n",
    "def plot_confusion_matrix(cm, classes,\n",
    "                          normalize=False,\n",
    "                          title='Confusion matrix',\n",
    "                          cmap=plt.cm.Blues):\n",
    "    \"\"\"\n",
    "    This function prints and plots the confusion matrix.\n",
    "    Normalization can be applied by setting `normalize=True`.\n",
    "    \"\"\"\n",
    "    if normalize:\n",
    "        cm = cm.astype('float') / cm.sum(axis=1)[:, np.newaxis]\n",
    "        print(\"Normalized confusion matrix\")\n",
    "    else:\n",
    "        print('Confusion matrix, without normalization')\n",
    "\n",
    "    print(cm)\n",
    "\n",
    "    plt.imshow(cm, interpolation='nearest', cmap=cmap)\n",
    "    plt.title(title)\n",
    "    plt.colorbar()\n",
    "    tick_marks = np.arange(len(classes))\n",
    "    plt.xticks(tick_marks, classes, rotation=45)\n",
    "    plt.yticks(tick_marks, classes)\n",
    "\n",
    "    fmt = '.2f' if normalize else 'd'\n",
    "    thresh = cm.max() / 2.\n",
    "    for i, j in itertools.product(range(cm.shape[0]), range(cm.shape[1])):\n",
    "        plt.text(j, i, format(cm[i, j], fmt),\n",
    "                 horizontalalignment=\"center\",\n",
    "                 color=\"white\" if cm[i, j] > thresh else \"black\")\n",
    "\n",
    "    plt.tight_layout()\n",
    "    plt.ylabel('True label')\n",
    "    plt.xlabel('Predicted label')\n",
    "\n",
    "# Compute confusion matrix\n",
    "cnf_matrix = confusion_matrix(y_test, y_pred)\n",
    "np.set_printoptions(precision=2)\n",
    "\n",
    "# Plot non-normalized confusion matrix\n",
    "plt.figure()\n",
    "plot_confusion_matrix(cnf_matrix, classes=class_names,\n",
    "                      title='Confusion matrix, without normalization')\n",
    "\n",
    "# Plot normalized confusion matrix\n",
    "plt.figure()\n",
    "plot_confusion_matrix(cnf_matrix, classes=class_names, normalize=True,\n",
    "                      title='Normalized confusion matrix')\n",
    "\n",
    "plt.show()"
   ]
  },
  {
   "cell_type": "code",
   "execution_count": null,
   "metadata": {},
   "outputs": [],
   "source": [
    "\n",
    "\n",
    "# we create an instance of SVM and fit out data. We do not scale our\n",
    "# data since we want to plot the support vectors\n",
    "C = 1.0 # SVM regularization parameter\n",
    "svc = svm.SVC(kernel='rbf', C=1,gamma=10).fit(X, y)\n",
    "# create a mesh to plot in\n",
    "x_min, x_max = X[:, 0].min() - 1, X[:, 0].max() + 1\n",
    "y_min, y_max = X[:, 1].min() - 1, X[:, 1].max() + 1\n",
    "h = (x_max / x_min)/100\n",
    "xx, yy = np.meshgrid(np.arange(x_min, x_max, h),\n",
    " np.arange(y_min, y_max, h))\n"
   ]
  },
  {
   "cell_type": "code",
   "execution_count": null,
   "metadata": {
    "collapsed": true
   },
   "outputs": [],
   "source": [
    "\n",
    "plt.subplot(1, 1, 1)\n",
    "Z = svc.predict(np.c_[xx.ravel(), yy.ravel()])\n",
    "Z = Z.reshape(xx.shape)\n"
   ]
  },
  {
   "cell_type": "code",
   "execution_count": null,
   "metadata": {
    "collapsed": true
   },
   "outputs": [],
   "source": [
    "plt.contourf(xx, yy, Z, cmap=plt.cm.Paired, alpha=0.8)\n",
    "\n",
    "plt.scatter(X[:, 0], X[:, 1], c=y, cmap=plt.cm.Paired)\n",
    "plt.xlabel('Band 1 and 2')\n",
    "plt.ylabel('Ship or Iceberg')\n",
    "plt.xlim(xx.min(), xx.max())\n",
    "plt.title('SVC with rbf kernel')\n",
    "plt.show()"
   ]
  }
 ],
 "metadata": {
  "anaconda-cloud": {},
  "kernelspec": {
   "display_name": "Python 3",
   "language": "python",
   "name": "python3"
  },
  "language_info": {
   "codemirror_mode": {
    "name": "ipython",
    "version": 3
   },
   "file_extension": ".py",
   "mimetype": "text/x-python",
   "name": "python",
   "nbconvert_exporter": "python",
   "pygments_lexer": "ipython3",
   "version": "3.5.2"
  },
  "widgets": {
   "state": {},
   "version": "1.1.2"
  }
 },
 "nbformat": 4,
 "nbformat_minor": 1
}
