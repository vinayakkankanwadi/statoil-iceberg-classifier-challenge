{
 "cells": [
  {
   "cell_type": "markdown",
   "metadata": {},
   "source": [
    "# Statoil/C-CORE Iceberg Classifier Challenge\n",
    "\n",
    "Identifies if a remotely sensed target is a ship or iceberg.\n",
    "\n",
    "## Project: Build a Iceberg Classifier using Deep Learning\n",
    "\n",
    "[Kaggle Statoil Iceberg Classifier Challenge](https://www.kaggle.com/c/statoil-iceberg-classifier-challenge)\n"
   ]
  },
  {
   "cell_type": "code",
   "execution_count": 1,
   "metadata": {},
   "outputs": [
    {
     "name": "stderr",
     "output_type": "stream",
     "text": [
      "Using TensorFlow backend.\n"
     ]
    }
   ],
   "source": [
    "import pandas as pd \n",
    "import numpy as np \n",
    "import cv2 # Used to manipulated the images \n",
    "np.random.seed(1337) # The seed I used - pick your own or comment out for a random seed. A constant seed allows for better comparisons though\n",
    "\n",
    "# Import Keras \n",
    "from keras.models import Sequential\n",
    "from keras.layers import Dense, Dropout, Flatten, Activation, Cropping2D\n",
    "from keras.layers import Conv2D, MaxPooling2D\n",
    "from keras.callbacks import EarlyStopping, ModelCheckpoint, ReduceLROnPlateau\n",
    "from keras.layers.normalization import BatchNormalization\n",
    "from keras.optimizers import Adam"
   ]
  },
  {
   "cell_type": "code",
   "execution_count": 2,
   "metadata": {},
   "outputs": [],
   "source": [
    "df_test = pd.read_json('../data/test.json')\n",
    "df_test.inc_angle = df_test.inc_angle.replace('na',0)"
   ]
  },
  {
   "cell_type": "code",
   "execution_count": 3,
   "metadata": {},
   "outputs": [],
   "source": [
    "df_train = pd.read_json('../data/train.json') # this is a dataframe"
   ]
  },
  {
   "cell_type": "code",
   "execution_count": 85,
   "metadata": {},
   "outputs": [
    {
     "data": {
      "image/png": "[encoded data removed]",
      "text/plain": [
       "<matplotlib.figure.Figure at 0xf7376d4f60>"
      ]
     },
     "metadata": {},
     "output_type": "display_data"
    },
    {
     "data": {
      "image/png": "[encoded data removed]",
      "text/plain": [
       "<matplotlib.figure.Figure at 0xf73762cd30>"
      ]
     },
     "metadata": {},
     "output_type": "display_data"
    }
   ],
   "source": [
    "import cv2 \n",
    "import matplotlib.pyplot as plt\n",
    "import numpy as np\n",
    "\n",
    "img = []\n",
    "band_1 = np.array([np.array(band).astype(np.float32).reshape(75, 75) for band in df_train[\"band_1\"]])\n",
    "band_2 = np.array([np.array(band).astype(np.float32).reshape(75, 75) for band in df_train[\"band_2\"]])\n",
    "\n",
    "img.append(np.dstack((a, b, c)))\n",
    "\n",
    "def decibel_to_linear(band):\n",
    "     # convert to linear units\n",
    "    return np.power(10,np.array(band)/10)\n",
    "\n",
    "def linear_to_decibel(band):\n",
    "    return 10*np.log10(band)\n",
    "\n",
    "band_1_linear = decibel_to_linear(band_1)\n",
    "band_2_linear = decibel_to_linear(band_2)\n",
    "is_iceberg = np.array(df_train['is_iceberg'])\n",
    "inc_angle = np.array(df_train['inc_angle'])\n",
    "\n",
    "\n",
    "plt.imshow(band_1_linear[0])\n",
    "plt.show()\n",
    "cimg = cv2.cvtColor(band_1_linear[0], cv2.COLOR_GRAY2BGR)\n",
    "\n",
    "plt.imshow(cimg)\n",
    "plt.show()\n",
    "fimg = cv2.flip(band_1_linear[0], 1)\n",
    "\n",
    "\n",
    "#print(band_1[0].shape)\n",
    "#plt.imshow(band_1[0])\n",
    "#plt.show()\n",
    "#plt.imshow(band_2[0])\n",
    "#plt.show()\n",
    "#print(band_2[0].shape)\n"
   ]
  },
  {
   "cell_type": "code",
   "execution_count": 86,
   "metadata": {},
   "outputs": [],
   "source": [
    "from sklearn.model_selection import train_test_split    # split train test data\n",
    "samples = list(zip(band_1_linear,band_2_linear, inc_angle, is_iceberg))\n",
    "train_samples, valid_samples = train_test_split(samples, test_size=0.2)"
   ]
  },
  {
   "cell_type": "code",
   "execution_count": 87,
   "metadata": {},
   "outputs": [
    {
     "name": "stdout",
     "output_type": "stream",
     "text": [
      "Train samples: 1283\n",
      "Validation samples: 321\n"
     ]
    }
   ],
   "source": [
    "print('Train samples: {}'.format(len(train_samples)))\n",
    "print('Validation samples: {}'.format(len(valid_samples)))"
   ]
  },
  {
   "cell_type": "code",
   "execution_count": 160,
   "metadata": {},
   "outputs": [],
   "source": [
    "from scipy.ndimage.filters import uniform_filter\n",
    "\n",
    "windows = [2, 4, 8] # can be tuple too if not symetric\n",
    "noise_var = np.array([1, 2, 4])\n",
    "noise_var_1 = np.round(np.var(band_1_linear)*noise_var,10)\n",
    "noise_var_2 = np.round(np.var(band_2_linear)*noise_var,10)\n",
    "# implement the Lee Filter for a band in an image already reshaped into the proper dimensions\n",
    "def lee_filter(band, window, var_noise = 0.25):\n",
    "        # band: SAR data to be despeckled (already reshaped into image dimensions)\n",
    "        # window: descpeckling filter window (tuple)\n",
    "        # default noise variance = 0.25\n",
    "        # assumes noise mean = 0\n",
    "    \n",
    "        mean_window = uniform_filter(band, window)\n",
    "        mean_sqr_window = uniform_filter(band**2, window)\n",
    "        var_window = mean_sqr_window - mean_window**2\n",
    "\n",
    "        weights = var_window / (var_window + var_noise)\n",
    "        band_filtered = mean_window + weights*(band - mean_window)\n",
    "        return band_filtered"
   ]
  },
  {
   "cell_type": "code",
   "execution_count": 161,
   "metadata": {},
   "outputs": [],
   "source": [
    "import cv2               #for image read, flip, crop etc\n",
    "import csv               #for csv file operation\n",
    "import numpy as np       #for numpy array operation\n",
    "import os                #for directory operation\n",
    "import sklearn\t\t\t #for yield, util etc\n",
    "from sklearn.model_selection import train_test_split    # split train test data\n",
    "\n",
    "#for model\n",
    "import keras\n",
    "from keras.models import Sequential, Model\n",
    "from keras.layers import Flatten, Dense, Lambda, Convolution2D, Cropping2D, Dropout\n",
    "from keras.layers.pooling import MaxPooling2D\n",
    "\n",
    "def generator(samples, batch_size=32):\n",
    "    \"\"\"\n",
    "    @description:      generates required images and measurement \n",
    "                       using sample(training/validation) in batches of batch size\n",
    "    @param samples:    list of pairs containing imagePath and measuremnet\n",
    "    @param batch_size: batch size to generate data, default is 32 \n",
    "    \"\"\"\n",
    "    num_samples = len(samples)\n",
    "    while 1: # Loops forever, generator never ends\n",
    "        samples = sklearn.utils.shuffle(samples)\n",
    "        for offset in range(0, num_samples, batch_size):\n",
    "            batch_samples = samples[offset:offset+batch_size]\n",
    "\n",
    "            images = []\n",
    "            is_icebergs = []\n",
    "            for band_1_linear,band_2_linear, inc_angle, is_iceberg in batch_samples:\n",
    "        \n",
    "                band_1 = lee_filter(band_1_linear, windows[2], noise_var_1[2])\n",
    "                band_2 = lee_filter(band_2_linear, windows[2], noise_var_2[2])\n",
    "                band_3 = band_1 + band_2 # plus since log(x*y) = log(x) + log(y)\n",
    "        \n",
    "                # Rescale\n",
    "                a = (band_1 - band_1.mean()) / (band_1.max() - band_1.min())\n",
    "                b = (band_2 - band_2.mean()) / (band_2.max() - band_2.min())\n",
    "                c = (band_3 - band_3.mean()) / (band_3.max() - band_3.min())\n",
    "\n",
    "                images.append(np.dstack((a, b, c)))\n",
    "        \n",
    "                is_icebergs.append(is_iceberg)\n",
    "                \n",
    "            # Data augment: trim image to only see section with road\n",
    "            inputs = np.array(images)\n",
    "            outputs = np.array(is_icebergs)\n",
    "            yield sklearn.utils.shuffle(inputs, outputs)\n"
   ]
  },
  {
   "cell_type": "code",
   "execution_count": 162,
   "metadata": {},
   "outputs": [],
   "source": [
    "train_generator = generator(train_samples, batch_size=32)\n",
    "valid_generator = generator(valid_samples, batch_size=32)"
   ]
  },
  {
   "cell_type": "code",
   "execution_count": 173,
   "metadata": {},
   "outputs": [],
   "source": [
    "def getNvidiaModel():\n",
    "    \"\"\"\n",
    "    @description: NVIDIA CNN model for keras 2\n",
    "    \"\"\"\n",
    "    #Build keras model\n",
    "    \n",
    "    model=Sequential()\n",
    "    \n",
    "    # CNN 1\n",
    "    model.add(Conv2D(64, kernel_size=(5, 5),activation='relu', input_shape=(75, 75, 3)))\n",
    "    #model.add(Cropping2D(cropping=((45,45), (0,0))))\n",
    "    #model.add(BatchNormalization(axis =-1,epsilon=0.02,momentum=0.97))\n",
    "    model.add(MaxPooling2D(pool_size=(3, 3), strides=(2, 2)))\n",
    "    model.add(Dropout(0.5))\n",
    "\n",
    "    # CNN 2\n",
    "    model.add(Conv2D(128, kernel_size=(5, 5), activation='relu' ))\n",
    "    model.add(BatchNormalization(axis =-1,epsilon=0.02,momentum=0.97))\n",
    "    model.add(MaxPooling2D(pool_size=(2, 2), strides=(2, 2)))\n",
    "    model.add(Dropout(0.5))\n",
    "\n",
    "    # CNN 3\n",
    "    model.add(Conv2D(128, kernel_size=(3, 3), activation='relu'))\n",
    "    model.add(MaxPooling2D(pool_size=(2, 2), strides=(2, 2)))\n",
    "    model.add(Dropout(0.5))\n",
    "\n",
    "    #CNN 4\n",
    "    model.add(Conv2D(128, kernel_size=(3, 3), activation='relu'))\n",
    "    model.add(MaxPooling2D(pool_size=(2, 2), strides=(2, 2)))\n",
    "    model.add(Dropout(0.5))\n",
    "\n",
    "    # You must flatten the data for the dense layers\n",
    "    model.add(Flatten())\n",
    "\n",
    "    #Dense 1\n",
    "    model.add(Dense(512, activation='relu'))\n",
    "    model.add(Dropout(0.2))\n",
    "\n",
    "    #Dense 2\n",
    "    model.add(Dense(256, activation='relu'))\n",
    "    model.add(Dropout(0.2))\n",
    "    \n",
    "    # Output \n",
    "    model.add(Dense(1, activation=\"sigmoid\"))\n",
    "    #model.add(Dense(1, activation=\"softmax\"))\n",
    "\n",
    "    optimizer = Adam(lr=0.001, decay=0.0)\n",
    "    model.compile(loss='binary_crossentropy', optimizer=optimizer, metrics=['accuracy'])\n",
    "\n",
    "    return model"
   ]
  },
  {
   "cell_type": "code",
   "execution_count": 177,
   "metadata": {},
   "outputs": [
    {
     "name": "stdout",
     "output_type": "stream",
     "text": [
      "_________________________________________________________________\n",
      "Layer (type)                 Output Shape              Param #   \n",
      "=================================================================\n",
      "conv2d_68 (Conv2D)           (None, 71, 71, 64)        4864      \n",
      "_________________________________________________________________\n",
      "max_pooling2d_45 (MaxPooling (None, 35, 35, 64)        0         \n",
      "_________________________________________________________________\n",
      "dropout_91 (Dropout)         (None, 35, 35, 64)        0         \n",
      "_________________________________________________________________\n",
      "conv2d_69 (Conv2D)           (None, 31, 31, 128)       204928    \n",
      "_________________________________________________________________\n",
      "batch_normalization_22 (Batc (None, 31, 31, 128)       512       \n",
      "_________________________________________________________________\n",
      "max_pooling2d_46 (MaxPooling (None, 15, 15, 128)       0         \n",
      "_________________________________________________________________\n",
      "dropout_92 (Dropout)         (None, 15, 15, 128)       0         \n",
      "_________________________________________________________________\n",
      "conv2d_70 (Conv2D)           (None, 13, 13, 128)       147584    \n",
      "_________________________________________________________________\n",
      "max_pooling2d_47 (MaxPooling (None, 6, 6, 128)         0         \n",
      "_________________________________________________________________\n",
      "dropout_93 (Dropout)         (None, 6, 6, 128)         0         \n",
      "_________________________________________________________________\n",
      "conv2d_71 (Conv2D)           (None, 4, 4, 128)         147584    \n",
      "_________________________________________________________________\n",
      "max_pooling2d_48 (MaxPooling (None, 2, 2, 128)         0         \n",
      "_________________________________________________________________\n",
      "dropout_94 (Dropout)         (None, 2, 2, 128)         0         \n",
      "_________________________________________________________________\n",
      "flatten_14 (Flatten)         (None, 512)               0         \n",
      "_________________________________________________________________\n",
      "dense_62 (Dense)             (None, 512)               262656    \n",
      "_________________________________________________________________\n",
      "dropout_95 (Dropout)         (None, 512)               0         \n",
      "_________________________________________________________________\n",
      "dense_63 (Dense)             (None, 256)               131328    \n",
      "_________________________________________________________________\n",
      "dropout_96 (Dropout)         (None, 256)               0         \n",
      "_________________________________________________________________\n",
      "dense_64 (Dense)             (None, 1)                 257       \n",
      "=================================================================\n",
      "Total params: 899,713\n",
      "Trainable params: 899,457\n",
      "Non-trainable params: 256\n",
      "_________________________________________________________________\n"
     ]
    }
   ],
   "source": [
    "# Creating Model\n",
    "model = getNvidiaModel()\n",
    "\n",
    "# Compiling and training the model\n",
    "#model.compile(loss='mse', optimizer='adam')\n",
    " \n",
    "model.summary()"
   ]
  },
  {
   "cell_type": "code",
   "execution_count": 178,
   "metadata": {},
   "outputs": [
    {
     "name": "stdout",
     "output_type": "stream",
     "text": [
      "Epoch 1/25\n",
      "41/40 [==============================] - 99s 2s/step - loss: 0.6872 - acc: 0.5871 - val_loss: 0.6417 - val_acc: 0.6791\n",
      "Epoch 2/25\n",
      "41/40 [==============================] - 97s 2s/step - loss: 0.5239 - acc: 0.7195 - val_loss: 0.5112 - val_acc: 0.7477\n",
      "Epoch 3/25\n",
      "41/40 [==============================] - 97s 2s/step - loss: 0.4868 - acc: 0.7514 - val_loss: 0.6797 - val_acc: 0.5981\n",
      "Epoch 4/25\n",
      "41/40 [==============================] - 94s 2s/step - loss: 0.4571 - acc: 0.7770 - val_loss: 0.3807 - val_acc: 0.8037\n",
      "Epoch 5/25\n",
      "41/40 [==============================] - 90s 2s/step - loss: 0.3695 - acc: 0.8372 - val_loss: 0.4121 - val_acc: 0.8131\n",
      "Epoch 6/25\n",
      "41/40 [==============================] - 98s 2s/step - loss: 0.3997 - acc: 0.8193 - val_loss: 0.4826 - val_acc: 0.7477\n",
      "Epoch 7/25\n",
      "41/40 [==============================] - 97s 2s/step - loss: 0.3943 - acc: 0.8182 - val_loss: 0.3799 - val_acc: 0.8006\n",
      "Epoch 8/25\n",
      "41/40 [==============================] - 94s 2s/step - loss: 0.3694 - acc: 0.8311 - val_loss: 0.3621 - val_acc: 0.8411\n",
      "Epoch 9/25\n",
      "41/40 [==============================] - 96s 2s/step - loss: 0.3478 - acc: 0.8338 - val_loss: 0.3118 - val_acc: 0.8411\n",
      "Epoch 10/25\n",
      "41/40 [==============================] - 97s 2s/step - loss: 0.3841 - acc: 0.8327 - val_loss: 0.3444 - val_acc: 0.8536\n",
      "Epoch 11/25\n",
      "41/40 [==============================] - 103s 3s/step - loss: 0.3840 - acc: 0.8316 - val_loss: 0.3487 - val_acc: 0.8255\n",
      "Epoch 12/25\n",
      "41/40 [==============================] - 106s 3s/step - loss: 0.3389 - acc: 0.8421 - val_loss: 0.3186 - val_acc: 0.8442\n",
      "Epoch 13/25\n",
      "41/40 [==============================] - 105s 3s/step - loss: 0.3193 - acc: 0.8604 - val_loss: 0.3205 - val_acc: 0.8411\n",
      "Epoch 14/25\n",
      "41/40 [==============================] - 99s 2s/step - loss: 0.3173 - acc: 0.8543 - val_loss: 0.3490 - val_acc: 0.8536\n",
      "Epoch 15/25\n",
      "41/40 [==============================] - 104s 3s/step - loss: 0.3193 - acc: 0.8655 - val_loss: 0.3783 - val_acc: 0.8037\n",
      "Epoch 16/25\n",
      "41/40 [==============================] - 101s 2s/step - loss: 0.3079 - acc: 0.8673 - val_loss: 0.3503 - val_acc: 0.8318\n",
      "Epoch 17/25\n",
      "41/40 [==============================] - 94s 2s/step - loss: 0.3126 - acc: 0.8612 - val_loss: 0.2882 - val_acc: 0.8193\n",
      "Epoch 18/25\n",
      "41/40 [==============================] - 94s 2s/step - loss: 0.3013 - acc: 0.8803 - val_loss: 0.3796 - val_acc: 0.7975\n",
      "Epoch 19/25\n",
      "41/40 [==============================] - 91s 2s/step - loss: 0.3102 - acc: 0.8510 - val_loss: 0.3945 - val_acc: 0.7975\n",
      "Epoch 20/25\n",
      "41/40 [==============================] - 95s 2s/step - loss: 0.3273 - acc: 0.8673 - val_loss: 0.3534 - val_acc: 0.8567\n",
      "Epoch 21/25\n",
      "41/40 [==============================] - 97s 2s/step - loss: 0.3018 - acc: 0.8586 - val_loss: 0.5150 - val_acc: 0.7196\n",
      "Epoch 22/25\n",
      "41/40 [==============================] - 102s 2s/step - loss: 0.3044 - acc: 0.8734 - val_loss: 0.3195 - val_acc: 0.8598\n",
      "Epoch 23/25\n",
      "41/40 [==============================] - 99s 2s/step - loss: 0.3079 - acc: 0.8655 - val_loss: 0.2914 - val_acc: 0.8505\n",
      "Epoch 24/25\n",
      "41/40 [==============================] - 91s 2s/step - loss: 0.3007 - acc: 0.8673 - val_loss: 0.3667 - val_acc: 0.8069\n",
      "Epoch 25/25\n",
      "41/40 [==============================] - 93s 2s/step - loss: 0.2690 - acc: 0.8848 - val_loss: 0.3004 - val_acc: 0.8536\n"
     ]
    }
   ],
   "source": [
    "import sklearn\n",
    "\n",
    "batch_size = 32\n",
    "epochs = 25\n",
    "\n",
    "steps_per_epoch = len(train_samples)/batch_size\n",
    "valid_steps = len(valid_samples)/batch_size\n",
    "history = model.fit_generator(train_generator, steps_per_epoch= \\\n",
    "                 steps_per_epoch , validation_data=valid_generator, \\\n",
    "                 validation_steps=valid_steps, epochs=epochs, verbose=1)\n",
    "model.save('model.h5')"
   ]
  },
  {
   "cell_type": "code",
   "execution_count": 179,
   "metadata": {},
   "outputs": [
    {
     "data": {
      "image/png": "[encoded data removed]",
      "text/plain": [
       "<matplotlib.figure.Figure at 0xf79a9cf9e8>"
      ]
     },
     "metadata": {},
     "output_type": "display_data"
    }
   ],
   "source": [
    "from matplotlib import pyplot as plt\n",
    "%matplotlib inline\n",
    "fig, ax = plt.subplots(figsize=(12,4))\n",
    "plt.plot(history.history['loss'], color='red', label='Training set loss')\n",
    "plt.plot(history.history['val_loss'], color='blue', label='Validation set loss')\n",
    "plt.plot(history.history['acc'], color='green', label='Training set accuracy')\n",
    "plt.plot(history.history['val_acc'], color='pink', label='Validation set accuracy')\n",
    "plt.title('LOSS')\n",
    "plt.ylabel('loss')\n",
    "plt.xlabel('epoch')\n",
    "legend = ax.legend(loc='upper center', shadow=True)\n",
    "frame = legend.get_frame()\n",
    "frame.set_facecolor('0.90')"
   ]
  },
  {
   "cell_type": "code",
   "execution_count": null,
   "metadata": {},
   "outputs": [],
   "source": []
  }
 ],
 "metadata": {
  "anaconda-cloud": {},
  "kernelspec": {
   "display_name": "Python 3",
   "language": "python",
   "name": "python3"
  },
  "language_info": {
   "codemirror_mode": {
    "name": "ipython",
    "version": 3
   },
   "file_extension": ".py",
   "mimetype": "text/x-python",
   "name": "python",
   "nbconvert_exporter": "python",
   "pygments_lexer": "ipython3",
   "version": "3.5.4"
  }
 },
 "nbformat": 4,
 "nbformat_minor": 1
}
