{
 "cells": [
  {
   "cell_type": "markdown",
   "metadata": {},
   "source": [
    "# Statoil/C-CORE Iceberg Classifier Challenge\n",
    "\n",
    "Identifies if a remotely sensed target is a ship or iceberg.\n",
    "\n",
    "## Project: Build a Iceberg Classifier using Deep Learning\n",
    "\n",
    "[Kaggle Statoil Iceberg Classifier Challenge](https://www.kaggle.com/c/statoil-iceberg-classifier-challenge)\n"
   ]
  },
  {
   "cell_type": "code",
   "execution_count": 1,
   "metadata": {},
   "outputs": [
    {
     "name": "stderr",
     "output_type": "stream",
     "text": [
      "Using TensorFlow backend.\n"
     ]
    }
   ],
   "source": [
    "import pandas as pd \n",
    "import numpy as np \n",
    "import cv2 # Used to manipulated the images \n",
    "np.random.seed(1337) # The seed I used - pick your own or comment out for a random seed. A constant seed allows for better comparisons though\n",
    "\n",
    "# Import Keras \n",
    "from keras.models import Sequential\n",
    "from keras.layers import Dense, Dropout, Flatten, Activation\n",
    "from keras.layers import Conv2D, MaxPooling2D\n",
    "from keras.callbacks import EarlyStopping, ModelCheckpoint, ReduceLROnPlateau\n",
    "from keras.layers.normalization import BatchNormalization\n",
    "from keras.optimizers import Adam"
   ]
  },
  {
   "cell_type": "code",
   "execution_count": 2,
   "metadata": {},
   "outputs": [],
   "source": [
    "df_test = pd.read_json('../data/test.json')\n",
    "df_test.inc_angle = df_test.inc_angle.replace('na',0)"
   ]
  },
  {
   "cell_type": "code",
   "execution_count": 3,
   "metadata": {},
   "outputs": [],
   "source": [
    "df_train = pd.read_json('../data/train.json') # this is a dataframe"
   ]
  },
  {
   "cell_type": "code",
   "execution_count": 4,
   "metadata": {},
   "outputs": [],
   "source": [
    "band_1 = np.array([np.array(band).astype(np.float32).reshape(75, 75) for band in df_train[\"band_1\"]])\n",
    "band_2 = np.array([np.array(band).astype(np.float32).reshape(75, 75) for band in df_train[\"band_2\"]])\n",
    "#print(band_1)\n",
    "#print(band_2)"
   ]
  },
  {
   "cell_type": "code",
   "execution_count": 5,
   "metadata": {},
   "outputs": [],
   "source": [
    "def decibel_to_linear(band):\n",
    "     # convert to linear units\n",
    "    return np.power(10,np.array(band)/10)\n",
    "\n",
    "def linear_to_decibel(band):\n",
    "    return 10*np.log10(band)"
   ]
  },
  {
   "cell_type": "code",
   "execution_count": 6,
   "metadata": {},
   "outputs": [],
   "source": [
    "band_1_linear = decibel_to_linear(band_1)\n",
    "band_2_linear = decibel_to_linear(band_2)"
   ]
  },
  {
   "cell_type": "code",
   "execution_count": 14,
   "metadata": {},
   "outputs": [
    {
     "name": "stderr",
     "output_type": "stream",
     "text": [
      "E:\\InstalledSoftware\\Anaconda3\\lib\\site-packages\\matplotlib\\cbook\\deprecation.py:106: MatplotlibDeprecationWarning: Adding an axes using the same arguments as a previous axes currently reuses the earlier instance.  In a future version, a new instance will always be created and returned.  Meanwhile, this warning can be suppressed, and the future behavior ensured, by passing a unique label to each axes instance.\n",
      "  warnings.warn(message, mplDeprecation, stacklevel=1)\n"
     ]
    },
    {
     "data": {
      "image/png": "[encoded data removed]",
      "text/plain": [
       "<matplotlib.figure.Figure at 0xf5987f63c8>"
      ]
     },
     "metadata": {},
     "output_type": "display_data"
    }
   ],
   "source": [
    "#print(band_1_linear)\n",
    "#print(band_2_linear)\n",
    "import numpy as np\n",
    "import pandas as pd \n",
    "import matplotlib.pyplot as plt\n",
    "from scipy.ndimage.filters import uniform_filter\n",
    "\n",
    "fig = plt.figure(1, figsize=(10,10))\n",
    "ax = fig.add_subplot(1,2,1)\n",
    "ax.set_title(' - Band 1')\n",
    "ax.imshow(band_1_linear[0],cmap='jet')\n",
    "ax = fig.add_subplot(1,2,2)\n",
    "ax.set_title(' - Band 2')\n",
    "ax.imshow(band_2_linear[0],cmap='jet')\n",
    "plt.show()"
   ]
  },
  {
   "cell_type": "code",
   "execution_count": 7,
   "metadata": {},
   "outputs": [],
   "source": [
    "# implement the Lee Filter for a band in an image already reshaped into the proper dimensions\n",
    "def lee_filter(band, window, var_noise = 0.25):\n",
    "        # band: SAR data to be despeckled (already reshaped into image dimensions)\n",
    "        # window: descpeckling filter window (tuple)\n",
    "        # default noise variance = 0.25\n",
    "        # assumes noise mean = 0\n",
    "    \n",
    "        mean_window = uniform_filter(band, window)\n",
    "        mean_sqr_window = uniform_filter(band**2, window)\n",
    "        var_window = mean_sqr_window - mean_window**2\n",
    "\n",
    "        weights = var_window / (var_window + var_noise)\n",
    "        band_filtered = mean_window + weights*(band - mean_window)\n",
    "        return band_filtered"
   ]
  },
  {
   "cell_type": "code",
   "execution_count": 10,
   "metadata": {},
   "outputs": [],
   "source": [
    "windows = [2, 4, 8] # can be tuple too if not symetric\n",
    "noise_var = np.array([1, 2, 4])\n",
    "\n",
    "title_str_1 = ' Band 1\\nWindow: {}, Noise Var: {}'\n",
    "title_str_2 = ' Band 2\\nWindow: {}, Noise Var: {}'\n",
    "\n",
    "noise_var_1 = np.round(np.var(band_1_linear)*noise_var,10)\n",
    "noise_var_2 = np.round(np.var(band_2_linear)*noise_var,10)"
   ]
  },
  {
   "cell_type": "code",
   "execution_count": 12,
   "metadata": {},
   "outputs": [
    {
     "data": {
      "image/png": "[encoded data removed]",
      "text/plain": [
       "<matplotlib.figure.Figure at 0x5b9fcc8630>"
      ]
     },
     "metadata": {},
     "output_type": "display_data"
    }
   ],
   "source": [
    "# import packages\n",
    "import numpy as np\n",
    "import pandas as pd \n",
    "import matplotlib.pyplot as plt\n",
    "from scipy.ndimage.filters import uniform_filter\n",
    "plt.imshow(lee_filter(band_2_linear[0], windows[0], noise_var_1[0]),cmap='jet')    \n",
    "plt.show()"
   ]
  },
  {
   "cell_type": "code",
   "execution_count": null,
   "metadata": {},
   "outputs": [],
   "source": []
  },
  {
   "cell_type": "code",
   "execution_count": 36,
   "metadata": {},
   "outputs": [],
   "source": [
    "def get_scaled_imgs(df):\n",
    "    imgs = []\n",
    "\n",
    "    band_1 = np.array([np.array(band).astype(np.float32).reshape(75, 75) for band in df[\"band_1\"]])\n",
    "    band_2 = np.array([np.array(band).astype(np.float32).reshape(75, 75) for band in df[\"band_2\"]])\n",
    "    band_1_linear = decibel_to_linear(band_1)\n",
    "    band_2_linear = decibel_to_linear(band_2)\n",
    "    \n",
    "    for i, row in df.iterrows():\n",
    "\n",
    "        band_1 = lee_filter(band_1_linear[i], windows[0], noise_var_1[0])\n",
    "        band_2 = lee_filter(band_2_linear[i], windows[0], noise_var_1[0])\n",
    "        band_3 = band_1 + band_2 # plus since log(x*y) = log(x) + log(y)\n",
    "        #plt.imshow(lee_filter(band_2_linear[0], windows[0], noise_var_1[0]),cmap='jet')    \n",
    "\n",
    "        #make 75x75 image\n",
    "        #band_1 = np.array(row['band_1']).reshape(75, 75)\n",
    "        #band_2 = np.array(row['band_2']).reshape(75, 75)\n",
    "        #band_3 = band_1 + band_2 # plus since log(x*y) = log(x) + log(y)\n",
    "        \n",
    "        # Rescale\n",
    "        a = (band_1 - band_1.mean()) / (band_1.max() - band_1.min())\n",
    "        b = (band_2 - band_2.mean()) / (band_2.max() - band_2.min())\n",
    "        c = (band_3 - band_3.mean()) / (band_3.max() - band_3.min())\n",
    "\n",
    "        imgs.append(np.dstack((a, b, c)))\n",
    "        #imgs.append(i)\n",
    "\n",
    "    return np.array(imgs)"
   ]
  },
  {
   "cell_type": "code",
   "execution_count": 43,
   "metadata": {},
   "outputs": [
    {
     "name": "stdout",
     "output_type": "stream",
     "text": [
      "(1604, 75, 75, 3)\n"
     ]
    }
   ],
   "source": [
    "Xtrain = get_scaled_imgs(df_train)\n",
    "print(Xtrain.shape)"
   ]
  },
  {
   "cell_type": "code",
   "execution_count": 44,
   "metadata": {},
   "outputs": [],
   "source": [
    "Ytrain = np.array(df_train['is_iceberg'])"
   ]
  },
  {
   "cell_type": "code",
   "execution_count": 45,
   "metadata": {},
   "outputs": [],
   "source": [
    "df_train.inc_angle = df_train.inc_angle.replace('na',0)\n",
    "idx_tr = np.where(df_train.inc_angle>0)"
   ]
  },
  {
   "cell_type": "code",
   "execution_count": 46,
   "metadata": {},
   "outputs": [],
   "source": [
    "Ytrain = Ytrain[idx_tr[0]]\n",
    "Xtrain = Xtrain[idx_tr[0],...]"
   ]
  },
  {
   "cell_type": "code",
   "execution_count": 47,
   "metadata": {},
   "outputs": [],
   "source": [
    "def get_more_images(images):\n",
    "    \n",
    "    image_rot90 = []\n",
    "    image_rot180 = []\n",
    "    image_rot270 = []\n",
    "    image_mirror_lr = []\n",
    "    image_mirror_ud = []\n",
    "    for i in range(0,images.shape[0]):\n",
    "        band_1 = images[i,:,:,0]\n",
    "        band_2 = images[i,:,:,1]\n",
    "        band_3 = images[i,:,:,2]\n",
    "        \n",
    "        # rotate 90\n",
    "        band_1_rot90 = np.rot90(band_1)\n",
    "        band_2_rot90 = np.rot90(band_2)\n",
    "        band_3_rot90 = np.rot90(band_3)\n",
    "        image_rot90.append(np.dstack((band_1_rot90, band_2_rot90, band_3_rot90)))\n",
    "        \n",
    "        # rotate 180\n",
    "        band_1_rot180 = np.rot90(band_1_rot90)\n",
    "        band_2_rot180 = np.rot90(band_2_rot90)\n",
    "        band_3_rot180 = np.rot90(band_3_rot90)\n",
    "        image_rot180.append(np.dstack((band_1_rot180, band_2_rot180, band_3_rot180)))\n",
    "        \n",
    "        # rotate 270\n",
    "        band_1_rot270 = np.rot90(band_1_rot180)\n",
    "        band_2_rot270 = np.rot90(band_2_rot180)\n",
    "        band_3_rot270 = np.rot90(band_3_rot180)\n",
    "        image_rot270.append(np.dstack((band_1_rot270, band_2_rot270, band_3_rot270)))\n",
    "        \n",
    "        # mirror left-right\n",
    "        band_1_mirror_lr = np.flip(band_1, 0)\n",
    "        band_2_mirror_lr = np.flip(band_2, 0)\n",
    "        band_3_mirror_lr = np.flip(band_3, 0)\n",
    "        image_mirror_lr.append(np.dstack((band_1_mirror_lr, band_2_mirror_lr, band_3_mirror_lr)))\n",
    "        \n",
    "        # mirror up-down\n",
    "        band_1_mirror_ud = np.flip(band_1, 1)\n",
    "        band_2_mirror_ud = np.flip(band_2, 1)\n",
    "        band_3_mirror_ud = np.flip(band_3, 1)\n",
    "        image_mirror_ud.append(np.dstack((band_1_mirror_ud, band_2_mirror_ud, band_3_mirror_ud)))\n",
    "        \n",
    "    rot90 = np.array(image_rot90)\n",
    "    rot180 = np.array(image_rot180)\n",
    "    rot270 = np.array(image_rot270)\n",
    "    mirrorlr = np.array(image_mirror_lr)\n",
    "    mirrorud = np.array(image_mirror_ud)\n",
    "    #images = np.concatenate((images, rot90, rot180, rot270, mirrorlr, mirrorud))\n",
    "    images = np.concatenate((images, mirrorlr, mirrorud))\n",
    "    \n",
    "    return images"
   ]
  },
  {
   "cell_type": "code",
   "execution_count": 48,
   "metadata": {},
   "outputs": [],
   "source": [
    "Xtr_more = get_more_images(Xtrain) "
   ]
  },
  {
   "cell_type": "code",
   "execution_count": 49,
   "metadata": {},
   "outputs": [],
   "source": [
    "Ytr_more = np.concatenate((Ytrain,Ytrain,Ytrain))\n",
    "#Ytr_more = np.concatenate((Ytrain,Ytrain,Ytrain,Ytrain,Ytrain,Ytrain))"
   ]
  },
  {
   "cell_type": "code",
   "execution_count": 65,
   "metadata": {},
   "outputs": [],
   "source": [
    "def getModel():\n",
    "    #Build keras model\n",
    "    \n",
    "    model=Sequential()\n",
    "    \n",
    "    # CNN 1\n",
    "    model.add(Conv2D(64, kernel_size=(5, 5),activation='relu', input_shape=(75, 75, 3)))\n",
    "    model.add(MaxPooling2D(pool_size=(3, 3), strides=(2, 2)))\n",
    "    model.add(Dropout(0.3))\n",
    "\n",
    "    # CNN 2\n",
    "    model.add(Conv2D(128, kernel_size=(3, 3), activation='relu' ))\n",
    "    model.add(MaxPooling2D(pool_size=(2, 2), strides=(2, 2)))\n",
    "    model.add(Dropout(0.2))\n",
    "\n",
    "    # CNN 3\n",
    "    model.add(Conv2D(128, kernel_size=(3, 3), activation='relu'))\n",
    "    model.add(MaxPooling2D(pool_size=(2, 2), strides=(2, 2)))\n",
    "    model.add(Dropout(0.2))\n",
    "\n",
    "    #CNN 4\n",
    "    model.add(Conv2D(64, kernel_size=(3, 3), activation='relu'))\n",
    "    model.add(MaxPooling2D(pool_size=(2, 2), strides=(2, 2)))\n",
    "    model.add(Dropout(0.2))\n",
    "\n",
    "    # You must flatten the data for the dense layers\n",
    "    model.add(Flatten())\n",
    "\n",
    "    #Dense 1\n",
    "    model.add(Dense(512, activation='relu'))\n",
    "    model.add(Dropout(0.2))\n",
    "\n",
    "    #Dense 2\n",
    "    model.add(Dense(256, activation='relu'))\n",
    "    model.add(Dropout(0.2))\n",
    "\n",
    "    # Output \n",
    "    model.add(Dense(1, activation=\"sigmoid\"))\n",
    "\n",
    "    optimizer = Adam(lr=0.001, decay=0.0)\n",
    "    model.compile(loss='binary_crossentropy', optimizer=optimizer, metrics=['accuracy'])\n",
    "    \n",
    "    return model"
   ]
  },
  {
   "cell_type": "code",
   "execution_count": 66,
   "metadata": {},
   "outputs": [
    {
     "name": "stdout",
     "output_type": "stream",
     "text": [
      "_________________________________________________________________\n",
      "Layer (type)                 Output Shape              Param #   \n",
      "=================================================================\n",
      "conv2d_17 (Conv2D)           (None, 71, 71, 64)        4864      \n",
      "_________________________________________________________________\n",
      "max_pooling2d_17 (MaxPooling (None, 35, 35, 64)        0         \n",
      "_________________________________________________________________\n",
      "dropout_25 (Dropout)         (None, 35, 35, 64)        0         \n",
      "_________________________________________________________________\n",
      "conv2d_18 (Conv2D)           (None, 33, 33, 128)       73856     \n",
      "_________________________________________________________________\n",
      "max_pooling2d_18 (MaxPooling (None, 16, 16, 128)       0         \n",
      "_________________________________________________________________\n",
      "dropout_26 (Dropout)         (None, 16, 16, 128)       0         \n",
      "_________________________________________________________________\n",
      "conv2d_19 (Conv2D)           (None, 14, 14, 128)       147584    \n",
      "_________________________________________________________________\n",
      "max_pooling2d_19 (MaxPooling (None, 7, 7, 128)         0         \n",
      "_________________________________________________________________\n",
      "dropout_27 (Dropout)         (None, 7, 7, 128)         0         \n",
      "_________________________________________________________________\n",
      "conv2d_20 (Conv2D)           (None, 5, 5, 64)          73792     \n",
      "_________________________________________________________________\n",
      "max_pooling2d_20 (MaxPooling (None, 2, 2, 64)          0         \n",
      "_________________________________________________________________\n",
      "dropout_28 (Dropout)         (None, 2, 2, 64)          0         \n",
      "_________________________________________________________________\n",
      "flatten_5 (Flatten)          (None, 256)               0         \n",
      "_________________________________________________________________\n",
      "dense_13 (Dense)             (None, 512)               131584    \n",
      "_________________________________________________________________\n",
      "dropout_29 (Dropout)         (None, 512)               0         \n",
      "_________________________________________________________________\n",
      "dense_14 (Dense)             (None, 256)               131328    \n",
      "_________________________________________________________________\n",
      "dropout_30 (Dropout)         (None, 256)               0         \n",
      "_________________________________________________________________\n",
      "dense_15 (Dense)             (None, 1)                 257       \n",
      "=================================================================\n",
      "Total params: 563,265\n",
      "Trainable params: 563,265\n",
      "Non-trainable params: 0\n",
      "_________________________________________________________________\n"
     ]
    }
   ],
   "source": [
    "model = getModel()\n",
    "model.summary()\n",
    "\n",
    "batch_size = 32\n",
    "earlyStopping = EarlyStopping(monitor='val_loss', patience=10, verbose=0, mode='min')\n",
    "mcp_save = ModelCheckpoint('../models/model.hdf5', save_best_only=True, monitor='val_loss', mode='min')\n",
    "reduce_lr_loss = ReduceLROnPlateau(monitor='val_loss', factor=0.1, patience=7, verbose=1, epsilon=1e-4, mode='min')"
   ]
  },
  {
   "cell_type": "code",
   "execution_count": 59,
   "metadata": {},
   "outputs": [
    {
     "name": "stdout",
     "output_type": "stream",
     "text": [
      "Train on 3971 samples, validate on 442 samples\n",
      "Epoch 1/500\n",
      "3971/3971 [==============================] - 149s 37ms/step - loss: 0.5501 - acc: 0.7192 - val_loss: 0.3742 - val_acc: 0.8190\n",
      "Epoch 2/500\n",
      "3971/3971 [==============================] - 146s 37ms/step - loss: 0.3916 - acc: 0.8046 - val_loss: 0.3309 - val_acc: 0.8484\n",
      "Epoch 3/500\n",
      "3971/3971 [==============================] - 144s 36ms/step - loss: 0.3461 - acc: 0.8381 - val_loss: 0.3169 - val_acc: 0.8484\n",
      "Epoch 4/500\n",
      "3971/3971 [==============================] - 145s 37ms/step - loss: 0.3133 - acc: 0.8512 - val_loss: 0.2875 - val_acc: 0.8846\n",
      "Epoch 5/500\n",
      "3971/3971 [==============================] - 147s 37ms/step - loss: 0.2909 - acc: 0.8638 - val_loss: 0.3600 - val_acc: 0.8326\n",
      "Epoch 6/500\n",
      "3971/3971 [==============================] - 145s 37ms/step - loss: 0.3088 - acc: 0.8623 - val_loss: 0.3745 - val_acc: 0.8348\n",
      "Epoch 7/500\n",
      "3971/3971 [==============================] - 147s 37ms/step - loss: 0.2470 - acc: 0.8907 - val_loss: 0.2724 - val_acc: 0.8869\n",
      "Epoch 8/500\n",
      "3971/3971 [==============================] - 146s 37ms/step - loss: 0.2486 - acc: 0.8945 - val_loss: 0.2765 - val_acc: 0.9095\n",
      "Epoch 9/500\n",
      "3971/3971 [==============================] - 147s 37ms/step - loss: 0.2223 - acc: 0.9073 - val_loss: 0.3063 - val_acc: 0.8982\n",
      "Epoch 10/500\n",
      "3971/3971 [==============================] - 153s 38ms/step - loss: 0.2288 - acc: 0.9033 - val_loss: 0.2314 - val_acc: 0.9095\n",
      "Epoch 11/500\n",
      "3971/3971 [==============================] - 149s 37ms/step - loss: 0.1964 - acc: 0.9202 - val_loss: 0.2327 - val_acc: 0.9208\n",
      "Epoch 12/500\n",
      "3971/3971 [==============================] - 145s 36ms/step - loss: 0.1923 - acc: 0.9207 - val_loss: 0.2504 - val_acc: 0.9095\n",
      "Epoch 13/500\n",
      "3971/3971 [==============================] - 145s 37ms/step - loss: 0.1987 - acc: 0.9184 - val_loss: 0.2557 - val_acc: 0.8982\n",
      "Epoch 14/500\n",
      "3971/3971 [==============================] - 146s 37ms/step - loss: 0.1772 - acc: 0.9277 - val_loss: 0.2156 - val_acc: 0.9072\n",
      "Epoch 15/500\n",
      "3971/3971 [==============================] - 145s 36ms/step - loss: 0.1649 - acc: 0.9328 - val_loss: 0.2221 - val_acc: 0.8891\n",
      "Epoch 16/500\n",
      "3971/3971 [==============================] - 145s 37ms/step - loss: 0.1485 - acc: 0.9401 - val_loss: 0.2567 - val_acc: 0.8891\n",
      "Epoch 17/500\n",
      "3971/3971 [==============================] - 145s 36ms/step - loss: 0.1383 - acc: 0.9443 - val_loss: 0.2031 - val_acc: 0.9072\n",
      "Epoch 18/500\n",
      "3971/3971 [==============================] - 146s 37ms/step - loss: 0.1346 - acc: 0.9471 - val_loss: 0.2570 - val_acc: 0.9050\n",
      "Epoch 19/500\n",
      "3971/3971 [==============================] - 145s 37ms/step - loss: 0.1281 - acc: 0.9461 - val_loss: 0.3014 - val_acc: 0.8914\n",
      "Epoch 20/500\n",
      "3971/3971 [==============================] - 145s 37ms/step - loss: 0.1243 - acc: 0.9547 - val_loss: 0.3842 - val_acc: 0.9050\n",
      "Epoch 21/500\n",
      "3971/3971 [==============================] - 147s 37ms/step - loss: 0.1148 - acc: 0.9574 - val_loss: 0.2883 - val_acc: 0.9072\n",
      "Epoch 22/500\n",
      "3971/3971 [==============================] - 144s 36ms/step - loss: 0.1186 - acc: 0.9567 - val_loss: 0.2071 - val_acc: 0.9186\n",
      "Epoch 23/500\n",
      "3971/3971 [==============================] - 146s 37ms/step - loss: 0.1088 - acc: 0.9564 - val_loss: 0.2474 - val_acc: 0.8891\n",
      "Epoch 24/500\n",
      "3971/3971 [==============================] - 144s 36ms/step - loss: 0.1355 - acc: 0.9454 - val_loss: 0.2627 - val_acc: 0.8914\n",
      "Epoch 25/500\n",
      "3968/3971 [============================>.] - ETA: 0s - loss: 0.0873 - acc: 0.9665\n",
      "Epoch 00025: reducing learning rate to 0.00010000000474974513.\n",
      "3971/3971 [==============================] - 147s 37ms/step - loss: 0.0879 - acc: 0.9663 - val_loss: 0.3048 - val_acc: 0.8937\n",
      "Epoch 26/500\n",
      "3971/3971 [==============================] - 146s 37ms/step - loss: 0.0662 - acc: 0.9756 - val_loss: 0.2578 - val_acc: 0.9027\n",
      "Epoch 27/500\n",
      "3971/3971 [==============================] - 145s 37ms/step - loss: 0.0509 - acc: 0.9799 - val_loss: 0.2656 - val_acc: 0.8982\n"
     ]
    }
   ],
   "source": [
    "#timeline=model.fit(Xtrain, Ytrain, batch_size=batch_size, epochs=8, verbose=1, callbacks=[earlyStopping, mcp_save, reduce_lr_loss], validation_split=0.1)\n",
    "timeline=model.fit(Xtr_more, Ytr_more, batch_size=batch_size, epochs=500, verbose=1, callbacks=[earlyStopping, mcp_save, reduce_lr_loss], validation_split=0.1)\n"
   ]
  },
  {
   "cell_type": "code",
   "execution_count": 60,
   "metadata": {},
   "outputs": [
    {
     "data": {
      "image/png": "[encoded data removed]",
      "text/plain": [
       "<matplotlib.figure.Figure at 0x5bb32a9f98>"
      ]
     },
     "metadata": {},
     "output_type": "display_data"
    }
   ],
   "source": [
    "from matplotlib import pyplot as plt\n",
    "%matplotlib inline\n",
    "fig, ax = plt.subplots(figsize=(12,4))\n",
    "\n",
    "plt.plot(timeline.history['loss'], color='red', label='LOSS')\n",
    "plt.plot(timeline.history['val_loss'], color='blue', label='VAL_LOSS')\n",
    "plt.plot(timeline.history['acc'], color='yellow', label='VAL_LOSS')\n",
    "plt.plot(timeline.history['val_acc'], color='green', label='VAL_LOSS')\n",
    "legend = ax.legend(loc='upper center', shadow=True)\n",
    "frame = legend.get_frame()\n",
    "frame.set_facecolor('0.90')"
   ]
  },
  {
   "cell_type": "code",
   "execution_count": 61,
   "metadata": {},
   "outputs": [
    {
     "name": "stdout",
     "output_type": "stream",
     "text": [
      "1471/1471 [==============================] - 15s 10ms/step\n",
      "Train score: 0.0871189760942\n",
      "Train accuracy: 0.966689326988\n"
     ]
    }
   ],
   "source": [
    "model.load_weights(filepath = '../models/model.hdf5')\n",
    "\n",
    "score = model.evaluate(Xtrain, Ytrain, verbose=1)\n",
    "print('Train score:', score[0])\n",
    "print('Train accuracy:', score[1])"
   ]
  },
  {
   "cell_type": "code",
   "execution_count": 62,
   "metadata": {},
   "outputs": [
    {
     "name": "stdout",
     "output_type": "stream",
     "text": [
      "            id    is_iceberg\n",
      "0     5941774d  7.128880e-02\n",
      "1     4023181e  7.801189e-01\n",
      "2     b20200e4  6.327574e-04\n",
      "3     e7f018bb  9.999989e-01\n",
      "4     4371c8c3  9.433751e-01\n",
      "5     a8d9b1fd  4.184909e-01\n",
      "6     29e7727e  2.353549e-02\n",
      "7     92a51ffb  1.000000e+00\n",
      "8     c769ac97  3.565442e-05\n",
      "9     aee0547d  5.782890e-07\n",
      "10    565b28ac  6.269059e-08\n",
      "11    e04e9775  9.991031e-01\n",
      "12    8e8161d1  7.543321e-05\n",
      "13    4cf4d256  8.101206e-01\n",
      "14    139e5324  8.891463e-04\n",
      "15    f156976f  1.691335e-03\n",
      "16    68a117cc  1.742649e-03\n",
      "17    d9aa7a56  2.061114e-01\n",
      "18    9005b143  3.429532e-03\n",
      "19    5f6d3988  9.984611e-01\n",
      "20    9ad70954  1.249166e-02\n",
      "21    b9087b9e  6.976984e-01\n",
      "22    a39a1427  9.559980e-01\n",
      "23    82fbe8ed  4.658346e-01\n",
      "24    1fae4879  1.158368e-06\n",
      "25    6dd8f13d  1.619091e-01\n",
      "26    bbad5958  4.002581e-01\n",
      "27    54527583  6.526928e-02\n",
      "28    be8fa29c  2.884433e-05\n",
      "29    81a3328f  9.999917e-01\n",
      "...        ...           ...\n",
      "8394  8ae30ce6  1.894799e-03\n",
      "8395  de27ed88  5.146395e-02\n",
      "8396  66d5196f  3.802962e-01\n",
      "8397  d85f1858  6.880317e-01\n",
      "8398  16dcb33a  9.844332e-01\n",
      "8399  eca3158e  1.523456e-01\n",
      "8400  08daeee6  4.606911e-03\n",
      "8401  e9c513ee  1.693396e-03\n",
      "8402  b1519fa6  9.401090e-01\n",
      "8403  dfc89540  5.302430e-01\n",
      "8404  8fd8c0e9  3.076012e-01\n",
      "8405  45df6347  2.071404e-02\n",
      "8406  bf7928d7  2.269547e-02\n",
      "8407  7b587c05  1.868841e-02\n",
      "8408  c2834388  7.363591e-01\n",
      "8409  146143c3  9.992903e-01\n",
      "8410  d59aee00  1.799643e-07\n",
      "8411  cbc0b93b  9.232209e-01\n",
      "8412  088e2ff7  9.745566e-01\n",
      "8413  673d33cd  4.778720e-01\n",
      "8414  674b031e  5.189685e-07\n",
      "8415  43db4207  8.557760e-03\n",
      "8416  156855e1  3.682916e-08\n",
      "8417  ac96cfb0  7.667825e-01\n",
      "8418  fe45aef5  9.969938e-01\n",
      "8419  16ee9b50  1.422144e-02\n",
      "8420  5a599eb7  1.021244e-01\n",
      "8421  df30d6dd  4.100870e-06\n",
      "8422  18af95b1  9.996887e-01\n",
      "8423  27d788c8  6.938006e-01\n",
      "\n",
      "[8424 rows x 2 columns]\n"
     ]
    }
   ],
   "source": [
    "Xtest = (get_scaled_imgs(df_test))\n",
    "pred_test = model.predict(Xtest)\n",
    "\n",
    "submission = pd.DataFrame({'id': df_test[\"id\"], 'is_iceberg': pred_test.reshape((pred_test.shape[0]))})\n",
    "print(submission)\n"
   ]
  },
  {
   "cell_type": "code",
   "execution_count": 64,
   "metadata": {},
   "outputs": [],
   "source": [
    "submission.to_csv('../submission/submission18.csv', index=False)"
   ]
  },
  {
   "cell_type": "code",
   "execution_count": null,
   "metadata": {},
   "outputs": [],
   "source": []
  }
 ],
 "metadata": {
  "anaconda-cloud": {},
  "kernelspec": {
   "display_name": "Python 3",
   "language": "python",
   "name": "python3"
  },
  "language_info": {
   "codemirror_mode": {
    "name": "ipython",
    "version": 3
   },
   "file_extension": ".py",
   "mimetype": "text/x-python",
   "name": "python",
   "nbconvert_exporter": "python",
   "pygments_lexer": "ipython3",
   "version": "3.5.4"
  }
 },
 "nbformat": 4,
 "nbformat_minor": 1
}
